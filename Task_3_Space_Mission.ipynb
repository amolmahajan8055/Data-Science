{
 "cells": [
  {
   "cell_type": "markdown",
   "id": "72cbdba5",
   "metadata": {},
   "source": [
    "# Space Missions"
   ]
  },
  {
   "cell_type": "markdown",
   "id": "3f160166",
   "metadata": {},
   "source": [
    "Importing the Libraries"
   ]
  },
  {
   "cell_type": "code",
   "execution_count": 1,
   "id": "f54901f5",
   "metadata": {},
   "outputs": [],
   "source": [
    "import pandas as pd\n",
    "import numpy as np"
   ]
  },
  {
   "cell_type": "code",
   "execution_count": 2,
   "id": "72aad2f6",
   "metadata": {},
   "outputs": [],
   "source": [
    "#visualization libraries\n",
    "import matplotlib.pyplot as plt\n",
    "import seaborn as sns\n",
    "%matplotlib inline\n",
    "\n",
    "#ignore warnings\n",
    "import warnings\n",
    "warnings.filterwarnings('ignore')"
   ]
  },
  {
   "cell_type": "code",
   "execution_count": 3,
   "id": "0321ccc2",
   "metadata": {},
   "outputs": [],
   "source": [
    "from sklearn.metrics import plot_confusion_matrix\n",
    "from sklearn.preprocessing import LabelEncoder\n",
    "from sklearn.model_selection import train_test_split\n",
    "from sklearn.feature_extraction.text import CountVectorizer\n",
    "from sklearn.naive_bayes import MultinomialNB"
   ]
  },
  {
   "cell_type": "markdown",
   "id": "2640ef97",
   "metadata": {},
   "source": [
    "Reading the Dataset:"
   ]
  },
  {
   "cell_type": "code",
   "execution_count": 4,
   "id": "d48073ae",
   "metadata": {},
   "outputs": [],
   "source": [
    "df = pd.read_csv(r\"D:\\DS\\Task\\space\\SpaceMissions.csv\")"
   ]
  },
  {
   "cell_type": "code",
   "execution_count": 5,
   "id": "8da331b5",
   "metadata": {},
   "outputs": [
    {
     "data": {
      "text/plain": [
       "(150, 18)"
      ]
     },
     "execution_count": 5,
     "metadata": {},
     "output_type": "execute_result"
    }
   ],
   "source": [
    "df.shape"
   ]
  },
  {
   "cell_type": "code",
   "execution_count": 6,
   "id": "06eadd7e",
   "metadata": {},
   "outputs": [
    {
     "data": {
      "text/html": [
       "<div>\n",
       "<style scoped>\n",
       "    .dataframe tbody tr th:only-of-type {\n",
       "        vertical-align: middle;\n",
       "    }\n",
       "\n",
       "    .dataframe tbody tr th {\n",
       "        vertical-align: top;\n",
       "    }\n",
       "\n",
       "    .dataframe thead th {\n",
       "        text-align: right;\n",
       "    }\n",
       "</style>\n",
       "<table border=\"1\" class=\"dataframe\">\n",
       "  <thead>\n",
       "    <tr style=\"text-align: right;\">\n",
       "      <th></th>\n",
       "      <th>Company</th>\n",
       "      <th>Launch Date</th>\n",
       "      <th>Launch Time</th>\n",
       "      <th>Launch Site</th>\n",
       "      <th>Temperature (° F)</th>\n",
       "      <th>Wind speed (MPH)</th>\n",
       "      <th>Humidity (%)</th>\n",
       "      <th>Vehicle Type</th>\n",
       "      <th>Liftoff Thrust (kN)</th>\n",
       "      <th>Payload to Orbit (kg)</th>\n",
       "      <th>Rocket Height (m)</th>\n",
       "      <th>Fairing Diameter (m)</th>\n",
       "      <th>Payload Name</th>\n",
       "      <th>Payload Type</th>\n",
       "      <th>Payload Mass (kg)</th>\n",
       "      <th>Payload Orbit</th>\n",
       "      <th>Mission Status</th>\n",
       "      <th>Failure Reason</th>\n",
       "    </tr>\n",
       "  </thead>\n",
       "  <tbody>\n",
       "    <tr>\n",
       "      <th>0</th>\n",
       "      <td>SpaceX</td>\n",
       "      <td>24-Mar-06</td>\n",
       "      <td>22:30</td>\n",
       "      <td>Marshall Islands</td>\n",
       "      <td>86.0</td>\n",
       "      <td>9.0</td>\n",
       "      <td>74.0</td>\n",
       "      <td>Falcon 1</td>\n",
       "      <td>343</td>\n",
       "      <td>470</td>\n",
       "      <td>22.25</td>\n",
       "      <td>1.5</td>\n",
       "      <td>FalconSAT-2</td>\n",
       "      <td>Research Satellite</td>\n",
       "      <td>19.5</td>\n",
       "      <td>Low Earth Orbit</td>\n",
       "      <td>Failure</td>\n",
       "      <td>Engine Fire During Launch</td>\n",
       "    </tr>\n",
       "    <tr>\n",
       "      <th>1</th>\n",
       "      <td>SpaceX</td>\n",
       "      <td>21-Mar-07</td>\n",
       "      <td>01:10</td>\n",
       "      <td>Marshall Islands</td>\n",
       "      <td>NaN</td>\n",
       "      <td>NaN</td>\n",
       "      <td>NaN</td>\n",
       "      <td>Falcon 1</td>\n",
       "      <td>343</td>\n",
       "      <td>470</td>\n",
       "      <td>22.25</td>\n",
       "      <td>1.5</td>\n",
       "      <td>DemoSat</td>\n",
       "      <td>Mass simulator</td>\n",
       "      <td>NaN</td>\n",
       "      <td>Low Earth Orbit</td>\n",
       "      <td>Failure</td>\n",
       "      <td>Engine Shutdown During Launch</td>\n",
       "    </tr>\n",
       "    <tr>\n",
       "      <th>2</th>\n",
       "      <td>SpaceX</td>\n",
       "      <td>03-Aug-08</td>\n",
       "      <td>03:34</td>\n",
       "      <td>Marshall Islands</td>\n",
       "      <td>NaN</td>\n",
       "      <td>NaN</td>\n",
       "      <td>NaN</td>\n",
       "      <td>Falcon 1</td>\n",
       "      <td>343</td>\n",
       "      <td>470</td>\n",
       "      <td>22.25</td>\n",
       "      <td>1.5</td>\n",
       "      <td>Trailblazer</td>\n",
       "      <td>Communication Satellite</td>\n",
       "      <td>NaN</td>\n",
       "      <td>Low Earth Orbit</td>\n",
       "      <td>Failure</td>\n",
       "      <td>Collision During Launch</td>\n",
       "    </tr>\n",
       "    <tr>\n",
       "      <th>3</th>\n",
       "      <td>SpaceX</td>\n",
       "      <td>03-Aug-08</td>\n",
       "      <td>03:34</td>\n",
       "      <td>Marshall Islands</td>\n",
       "      <td>NaN</td>\n",
       "      <td>NaN</td>\n",
       "      <td>NaN</td>\n",
       "      <td>Falcon 1</td>\n",
       "      <td>343</td>\n",
       "      <td>470</td>\n",
       "      <td>22.25</td>\n",
       "      <td>1.5</td>\n",
       "      <td>PRESat, NanoSail-D</td>\n",
       "      <td>Research Satellites</td>\n",
       "      <td>8</td>\n",
       "      <td>Low Earth Orbit</td>\n",
       "      <td>Failure</td>\n",
       "      <td>Collision During Launch</td>\n",
       "    </tr>\n",
       "    <tr>\n",
       "      <th>4</th>\n",
       "      <td>SpaceX</td>\n",
       "      <td>03-Aug-08</td>\n",
       "      <td>03:34</td>\n",
       "      <td>Marshall Islands</td>\n",
       "      <td>NaN</td>\n",
       "      <td>NaN</td>\n",
       "      <td>NaN</td>\n",
       "      <td>Falcon 1</td>\n",
       "      <td>343</td>\n",
       "      <td>470</td>\n",
       "      <td>22.25</td>\n",
       "      <td>1.5</td>\n",
       "      <td>Explorers</td>\n",
       "      <td>Human Remains</td>\n",
       "      <td>NaN</td>\n",
       "      <td>Low Earth Orbit</td>\n",
       "      <td>Failure</td>\n",
       "      <td>Collision During Launch</td>\n",
       "    </tr>\n",
       "  </tbody>\n",
       "</table>\n",
       "</div>"
      ],
      "text/plain": [
       "  Company Launch Date Launch Time       Launch Site  Temperature (° F)  \\\n",
       "0  SpaceX   24-Mar-06       22:30  Marshall Islands               86.0   \n",
       "1  SpaceX   21-Mar-07       01:10  Marshall Islands                NaN   \n",
       "2  SpaceX   03-Aug-08       03:34  Marshall Islands                NaN   \n",
       "3  SpaceX   03-Aug-08       03:34  Marshall Islands                NaN   \n",
       "4  SpaceX   03-Aug-08       03:34  Marshall Islands                NaN   \n",
       "\n",
       "   Wind speed (MPH)  Humidity (%) Vehicle Type  Liftoff Thrust (kN)  \\\n",
       "0               9.0          74.0     Falcon 1                  343   \n",
       "1               NaN           NaN     Falcon 1                  343   \n",
       "2               NaN           NaN     Falcon 1                  343   \n",
       "3               NaN           NaN     Falcon 1                  343   \n",
       "4               NaN           NaN     Falcon 1                  343   \n",
       "\n",
       "   Payload to Orbit (kg)  Rocket Height (m)  Fairing Diameter (m)  \\\n",
       "0                    470              22.25                   1.5   \n",
       "1                    470              22.25                   1.5   \n",
       "2                    470              22.25                   1.5   \n",
       "3                    470              22.25                   1.5   \n",
       "4                    470              22.25                   1.5   \n",
       "\n",
       "         Payload Name             Payload Type Payload Mass (kg)  \\\n",
       "0         FalconSAT-2       Research Satellite              19.5   \n",
       "1             DemoSat           Mass simulator               NaN   \n",
       "2         Trailblazer  Communication Satellite               NaN   \n",
       "3  PRESat, NanoSail-D      Research Satellites                 8   \n",
       "4           Explorers            Human Remains               NaN   \n",
       "\n",
       "     Payload Orbit Mission Status                 Failure Reason  \n",
       "0  Low Earth Orbit        Failure      Engine Fire During Launch  \n",
       "1  Low Earth Orbit        Failure  Engine Shutdown During Launch  \n",
       "2  Low Earth Orbit        Failure        Collision During Launch  \n",
       "3  Low Earth Orbit        Failure        Collision During Launch  \n",
       "4  Low Earth Orbit        Failure        Collision During Launch  "
      ]
     },
     "execution_count": 6,
     "metadata": {},
     "output_type": "execute_result"
    }
   ],
   "source": [
    "df.head()"
   ]
  },
  {
   "cell_type": "code",
   "execution_count": 7,
   "id": "832eab41",
   "metadata": {},
   "outputs": [
    {
     "data": {
      "text/html": [
       "<div>\n",
       "<style scoped>\n",
       "    .dataframe tbody tr th:only-of-type {\n",
       "        vertical-align: middle;\n",
       "    }\n",
       "\n",
       "    .dataframe tbody tr th {\n",
       "        vertical-align: top;\n",
       "    }\n",
       "\n",
       "    .dataframe thead th {\n",
       "        text-align: right;\n",
       "    }\n",
       "</style>\n",
       "<table border=\"1\" class=\"dataframe\">\n",
       "  <thead>\n",
       "    <tr style=\"text-align: right;\">\n",
       "      <th></th>\n",
       "      <th>Company</th>\n",
       "      <th>Launch Date</th>\n",
       "      <th>Launch Time</th>\n",
       "      <th>Launch Site</th>\n",
       "      <th>Temperature (° F)</th>\n",
       "      <th>Wind speed (MPH)</th>\n",
       "      <th>Humidity (%)</th>\n",
       "      <th>Vehicle Type</th>\n",
       "      <th>Liftoff Thrust (kN)</th>\n",
       "      <th>Payload to Orbit (kg)</th>\n",
       "      <th>Rocket Height (m)</th>\n",
       "      <th>Fairing Diameter (m)</th>\n",
       "      <th>Payload Name</th>\n",
       "      <th>Payload Type</th>\n",
       "      <th>Payload Mass (kg)</th>\n",
       "      <th>Payload Orbit</th>\n",
       "      <th>Mission Status</th>\n",
       "      <th>Failure Reason</th>\n",
       "    </tr>\n",
       "  </thead>\n",
       "  <tbody>\n",
       "    <tr>\n",
       "      <th>145</th>\n",
       "      <td>Boeing</td>\n",
       "      <td>11-Feb-02</td>\n",
       "      <td>17:43</td>\n",
       "      <td>Vandenberg</td>\n",
       "      <td>51.0</td>\n",
       "      <td>0.0</td>\n",
       "      <td>66.0</td>\n",
       "      <td>Delta II 7920-10C</td>\n",
       "      <td>3511</td>\n",
       "      <td>4800</td>\n",
       "      <td>38.9</td>\n",
       "      <td>3.0</td>\n",
       "      <td>Iridium IS-1</td>\n",
       "      <td>Communication Satellite</td>\n",
       "      <td>689</td>\n",
       "      <td>Low Earth Orbit</td>\n",
       "      <td>Success</td>\n",
       "      <td>NaN</td>\n",
       "    </tr>\n",
       "    <tr>\n",
       "      <th>146</th>\n",
       "      <td>Boeing</td>\n",
       "      <td>04-May-02</td>\n",
       "      <td>09:54</td>\n",
       "      <td>Vandenberg</td>\n",
       "      <td>59.0</td>\n",
       "      <td>8.0</td>\n",
       "      <td>67.0</td>\n",
       "      <td>Delta II 7920-10C</td>\n",
       "      <td>3511</td>\n",
       "      <td>4800</td>\n",
       "      <td>38.9</td>\n",
       "      <td>3.0</td>\n",
       "      <td>Aqua</td>\n",
       "      <td>Research Satellite</td>\n",
       "      <td>3117</td>\n",
       "      <td>Low Earth Orbit</td>\n",
       "      <td>Success</td>\n",
       "      <td>NaN</td>\n",
       "    </tr>\n",
       "    <tr>\n",
       "      <th>147</th>\n",
       "      <td>Boeing</td>\n",
       "      <td>03-Jul-02</td>\n",
       "      <td>06:47</td>\n",
       "      <td>Cape Canaveral</td>\n",
       "      <td>76.0</td>\n",
       "      <td>3.0</td>\n",
       "      <td>87.0</td>\n",
       "      <td>Delta II 7425</td>\n",
       "      <td>3020</td>\n",
       "      <td>1110</td>\n",
       "      <td>38.1</td>\n",
       "      <td>2.9</td>\n",
       "      <td>CONTOUR</td>\n",
       "      <td>Space Probe</td>\n",
       "      <td>328</td>\n",
       "      <td>Heliocentric Orbit</td>\n",
       "      <td>Success</td>\n",
       "      <td>NaN</td>\n",
       "    </tr>\n",
       "    <tr>\n",
       "      <th>148</th>\n",
       "      <td>Boeing</td>\n",
       "      <td>20-Nov-02</td>\n",
       "      <td>22:39</td>\n",
       "      <td>Cape Canaveral</td>\n",
       "      <td>72.0</td>\n",
       "      <td>5.0</td>\n",
       "      <td>73.0</td>\n",
       "      <td>Delta IV Medium+ (4,2)</td>\n",
       "      <td>4895</td>\n",
       "      <td>6390</td>\n",
       "      <td>62.5</td>\n",
       "      <td>4.0</td>\n",
       "      <td>Eutelsat W5</td>\n",
       "      <td>Communication Satellite</td>\n",
       "      <td>3170</td>\n",
       "      <td>Geostationary Transfer Orbit</td>\n",
       "      <td>Success</td>\n",
       "      <td>NaN</td>\n",
       "    </tr>\n",
       "    <tr>\n",
       "      <th>149</th>\n",
       "      <td>Boeing</td>\n",
       "      <td>13-Jan-03</td>\n",
       "      <td>00:45</td>\n",
       "      <td>Vandenberg</td>\n",
       "      <td>50.0</td>\n",
       "      <td>0.0</td>\n",
       "      <td>100.0</td>\n",
       "      <td>Delta II 7320-10C</td>\n",
       "      <td>2533</td>\n",
       "      <td>2703</td>\n",
       "      <td>38.9</td>\n",
       "      <td>3.0</td>\n",
       "      <td>ICESat</td>\n",
       "      <td>Research Satellite</td>\n",
       "      <td>970</td>\n",
       "      <td>Sun-Synchronous Orbit</td>\n",
       "      <td>Success</td>\n",
       "      <td>NaN</td>\n",
       "    </tr>\n",
       "  </tbody>\n",
       "</table>\n",
       "</div>"
      ],
      "text/plain": [
       "    Company Launch Date Launch Time     Launch Site  Temperature (° F)  \\\n",
       "145  Boeing   11-Feb-02       17:43     Vandenberg                51.0   \n",
       "146  Boeing   04-May-02       09:54     Vandenberg                59.0   \n",
       "147  Boeing   03-Jul-02       06:47  Cape Canaveral               76.0   \n",
       "148  Boeing   20-Nov-02       22:39  Cape Canaveral               72.0   \n",
       "149  Boeing   13-Jan-03       00:45     Vandenberg                50.0   \n",
       "\n",
       "     Wind speed (MPH)  Humidity (%)            Vehicle Type  \\\n",
       "145               0.0          66.0       Delta II 7920-10C   \n",
       "146               8.0          67.0       Delta II 7920-10C   \n",
       "147               3.0          87.0           Delta II 7425   \n",
       "148               5.0          73.0  Delta IV Medium+ (4,2)   \n",
       "149               0.0         100.0       Delta II 7320-10C   \n",
       "\n",
       "     Liftoff Thrust (kN)  Payload to Orbit (kg)  Rocket Height (m)  \\\n",
       "145                 3511                   4800               38.9   \n",
       "146                 3511                   4800               38.9   \n",
       "147                 3020                   1110               38.1   \n",
       "148                 4895                   6390               62.5   \n",
       "149                 2533                   2703               38.9   \n",
       "\n",
       "     Fairing Diameter (m)  Payload Name             Payload Type  \\\n",
       "145                   3.0  Iridium IS-1  Communication Satellite   \n",
       "146                   3.0          Aqua       Research Satellite   \n",
       "147                   2.9       CONTOUR              Space Probe   \n",
       "148                   4.0   Eutelsat W5  Communication Satellite   \n",
       "149                   3.0        ICESat       Research Satellite   \n",
       "\n",
       "    Payload Mass (kg)                 Payload Orbit Mission Status  \\\n",
       "145               689               Low Earth Orbit        Success   \n",
       "146              3117               Low Earth Orbit        Success   \n",
       "147               328            Heliocentric Orbit        Success   \n",
       "148              3170  Geostationary Transfer Orbit        Success   \n",
       "149               970         Sun-Synchronous Orbit        Success   \n",
       "\n",
       "    Failure Reason  \n",
       "145            NaN  \n",
       "146            NaN  \n",
       "147            NaN  \n",
       "148            NaN  \n",
       "149            NaN  "
      ]
     },
     "execution_count": 7,
     "metadata": {},
     "output_type": "execute_result"
    }
   ],
   "source": [
    "df.tail()"
   ]
  },
  {
   "cell_type": "markdown",
   "id": "b204e5ac",
   "metadata": {},
   "source": [
    "Data Analysis"
   ]
  },
  {
   "cell_type": "code",
   "execution_count": 8,
   "id": "a9130ad5",
   "metadata": {},
   "outputs": [
    {
     "name": "stdout",
     "output_type": "stream",
     "text": [
      "Company                    0\n",
      "Launch Date                0\n",
      "Launch Time                4\n",
      "Launch Site                0\n",
      "Temperature (° F)         14\n",
      "Wind speed (MPH)          14\n",
      "Humidity (%)              14\n",
      "Vehicle Type               0\n",
      "Liftoff Thrust (kN)        0\n",
      "Payload to Orbit (kg)      0\n",
      "Rocket Height (m)          0\n",
      "Fairing Diameter (m)       4\n",
      "Payload Name               0\n",
      "Payload Type               2\n",
      "Payload Mass (kg)         17\n",
      "Payload Orbit              0\n",
      "Mission Status             0\n",
      "Failure Reason           121\n",
      "dtype: int64\n"
     ]
    }
   ],
   "source": [
    "print(pd.isnull(df).sum())"
   ]
  },
  {
   "cell_type": "code",
   "execution_count": 9,
   "id": "3474ef5c",
   "metadata": {},
   "outputs": [
    {
     "data": {
      "text/plain": [
       "(146, 18)"
      ]
     },
     "execution_count": 9,
     "metadata": {},
     "output_type": "execute_result"
    }
   ],
   "source": [
    "df[df['Launch Time'].notnull()].shape"
   ]
  },
  {
   "cell_type": "code",
   "execution_count": 10,
   "id": "76603f70",
   "metadata": {},
   "outputs": [
    {
     "data": {
      "text/html": [
       "<div>\n",
       "<style scoped>\n",
       "    .dataframe tbody tr th:only-of-type {\n",
       "        vertical-align: middle;\n",
       "    }\n",
       "\n",
       "    .dataframe tbody tr th {\n",
       "        vertical-align: top;\n",
       "    }\n",
       "\n",
       "    .dataframe thead th {\n",
       "        text-align: right;\n",
       "    }\n",
       "</style>\n",
       "<table border=\"1\" class=\"dataframe\">\n",
       "  <thead>\n",
       "    <tr style=\"text-align: right;\">\n",
       "      <th></th>\n",
       "      <th>count</th>\n",
       "      <th>mean</th>\n",
       "      <th>std</th>\n",
       "      <th>min</th>\n",
       "      <th>25%</th>\n",
       "      <th>50%</th>\n",
       "      <th>75%</th>\n",
       "      <th>max</th>\n",
       "    </tr>\n",
       "  </thead>\n",
       "  <tbody>\n",
       "    <tr>\n",
       "      <th>Temperature (° F)</th>\n",
       "      <td>136.0</td>\n",
       "      <td>70.441176</td>\n",
       "      <td>12.700986</td>\n",
       "      <td>37.0</td>\n",
       "      <td>60.75</td>\n",
       "      <td>73.0</td>\n",
       "      <td>80.0</td>\n",
       "      <td>93.0</td>\n",
       "    </tr>\n",
       "    <tr>\n",
       "      <th>Wind speed (MPH)</th>\n",
       "      <td>136.0</td>\n",
       "      <td>8.007353</td>\n",
       "      <td>4.968786</td>\n",
       "      <td>0.0</td>\n",
       "      <td>5.00</td>\n",
       "      <td>8.0</td>\n",
       "      <td>12.0</td>\n",
       "      <td>23.0</td>\n",
       "    </tr>\n",
       "    <tr>\n",
       "      <th>Humidity (%)</th>\n",
       "      <td>136.0</td>\n",
       "      <td>76.066176</td>\n",
       "      <td>15.708079</td>\n",
       "      <td>37.0</td>\n",
       "      <td>65.00</td>\n",
       "      <td>78.0</td>\n",
       "      <td>89.0</td>\n",
       "      <td>100.0</td>\n",
       "    </tr>\n",
       "    <tr>\n",
       "      <th>Liftoff Thrust (kN)</th>\n",
       "      <td>150.0</td>\n",
       "      <td>5668.360000</td>\n",
       "      <td>3619.496024</td>\n",
       "      <td>343.0</td>\n",
       "      <td>3511.00</td>\n",
       "      <td>5885.0</td>\n",
       "      <td>6804.0</td>\n",
       "      <td>22819.0</td>\n",
       "    </tr>\n",
       "    <tr>\n",
       "      <th>Payload to Orbit (kg)</th>\n",
       "      <td>150.0</td>\n",
       "      <td>10708.913333</td>\n",
       "      <td>9502.621246</td>\n",
       "      <td>380.0</td>\n",
       "      <td>3099.00</td>\n",
       "      <td>8300.0</td>\n",
       "      <td>22800.0</td>\n",
       "      <td>63800.0</td>\n",
       "    </tr>\n",
       "    <tr>\n",
       "      <th>Rocket Height (m)</th>\n",
       "      <td>150.0</td>\n",
       "      <td>56.337133</td>\n",
       "      <td>16.577740</td>\n",
       "      <td>19.0</td>\n",
       "      <td>38.90</td>\n",
       "      <td>68.4</td>\n",
       "      <td>70.0</td>\n",
       "      <td>72.0</td>\n",
       "    </tr>\n",
       "    <tr>\n",
       "      <th>Fairing Diameter (m)</th>\n",
       "      <td>146.0</td>\n",
       "      <td>4.252329</td>\n",
       "      <td>1.308869</td>\n",
       "      <td>1.0</td>\n",
       "      <td>3.00</td>\n",
       "      <td>5.2</td>\n",
       "      <td>5.2</td>\n",
       "      <td>5.4</td>\n",
       "    </tr>\n",
       "  </tbody>\n",
       "</table>\n",
       "</div>"
      ],
      "text/plain": [
       "                       count          mean          std    min      25%  \\\n",
       "Temperature (° F)      136.0     70.441176    12.700986   37.0    60.75   \n",
       "Wind speed (MPH)       136.0      8.007353     4.968786    0.0     5.00   \n",
       "Humidity (%)           136.0     76.066176    15.708079   37.0    65.00   \n",
       "Liftoff Thrust (kN)    150.0   5668.360000  3619.496024  343.0  3511.00   \n",
       "Payload to Orbit (kg)  150.0  10708.913333  9502.621246  380.0  3099.00   \n",
       "Rocket Height (m)      150.0     56.337133    16.577740   19.0    38.90   \n",
       "Fairing Diameter (m)   146.0      4.252329     1.308869    1.0     3.00   \n",
       "\n",
       "                          50%      75%      max  \n",
       "Temperature (° F)        73.0     80.0     93.0  \n",
       "Wind speed (MPH)          8.0     12.0     23.0  \n",
       "Humidity (%)             78.0     89.0    100.0  \n",
       "Liftoff Thrust (kN)    5885.0   6804.0  22819.0  \n",
       "Payload to Orbit (kg)  8300.0  22800.0  63800.0  \n",
       "Rocket Height (m)        68.4     70.0     72.0  \n",
       "Fairing Diameter (m)      5.2      5.2      5.4  "
      ]
     },
     "execution_count": 10,
     "metadata": {},
     "output_type": "execute_result"
    }
   ],
   "source": [
    "df.describe().transpose()"
   ]
  },
  {
   "cell_type": "code",
   "execution_count": 11,
   "id": "469a50f0",
   "metadata": {},
   "outputs": [
    {
     "data": {
      "text/html": [
       "<div>\n",
       "<style scoped>\n",
       "    .dataframe tbody tr th:only-of-type {\n",
       "        vertical-align: middle;\n",
       "    }\n",
       "\n",
       "    .dataframe tbody tr th {\n",
       "        vertical-align: top;\n",
       "    }\n",
       "\n",
       "    .dataframe thead th {\n",
       "        text-align: right;\n",
       "    }\n",
       "</style>\n",
       "<table border=\"1\" class=\"dataframe\">\n",
       "  <thead>\n",
       "    <tr style=\"text-align: right;\">\n",
       "      <th></th>\n",
       "      <th>Company</th>\n",
       "      <th>Launch Date</th>\n",
       "      <th>Launch Time</th>\n",
       "      <th>Launch Site</th>\n",
       "      <th>Temperature (° F)</th>\n",
       "      <th>Wind speed (MPH)</th>\n",
       "      <th>Humidity (%)</th>\n",
       "      <th>Vehicle Type</th>\n",
       "      <th>Liftoff Thrust (kN)</th>\n",
       "      <th>Payload to Orbit (kg)</th>\n",
       "      <th>Rocket Height (m)</th>\n",
       "      <th>Fairing Diameter (m)</th>\n",
       "      <th>Payload Name</th>\n",
       "      <th>Payload Type</th>\n",
       "      <th>Payload Mass (kg)</th>\n",
       "      <th>Payload Orbit</th>\n",
       "      <th>Mission Status</th>\n",
       "      <th>Failure Reason</th>\n",
       "      <th>Mission Status N</th>\n",
       "    </tr>\n",
       "  </thead>\n",
       "  <tbody>\n",
       "    <tr>\n",
       "      <th>0</th>\n",
       "      <td>SpaceX</td>\n",
       "      <td>24-Mar-06</td>\n",
       "      <td>22:30</td>\n",
       "      <td>Marshall Islands</td>\n",
       "      <td>86.0</td>\n",
       "      <td>9.0</td>\n",
       "      <td>74.0</td>\n",
       "      <td>Falcon 1</td>\n",
       "      <td>343</td>\n",
       "      <td>470</td>\n",
       "      <td>22.25</td>\n",
       "      <td>1.5</td>\n",
       "      <td>FalconSAT-2</td>\n",
       "      <td>Research Satellite</td>\n",
       "      <td>19.5</td>\n",
       "      <td>Low Earth Orbit</td>\n",
       "      <td>Failure</td>\n",
       "      <td>Engine Fire During Launch</td>\n",
       "      <td>0</td>\n",
       "    </tr>\n",
       "    <tr>\n",
       "      <th>1</th>\n",
       "      <td>SpaceX</td>\n",
       "      <td>21-Mar-07</td>\n",
       "      <td>01:10</td>\n",
       "      <td>Marshall Islands</td>\n",
       "      <td>NaN</td>\n",
       "      <td>NaN</td>\n",
       "      <td>NaN</td>\n",
       "      <td>Falcon 1</td>\n",
       "      <td>343</td>\n",
       "      <td>470</td>\n",
       "      <td>22.25</td>\n",
       "      <td>1.5</td>\n",
       "      <td>DemoSat</td>\n",
       "      <td>Mass simulator</td>\n",
       "      <td>NaN</td>\n",
       "      <td>Low Earth Orbit</td>\n",
       "      <td>Failure</td>\n",
       "      <td>Engine Shutdown During Launch</td>\n",
       "      <td>0</td>\n",
       "    </tr>\n",
       "    <tr>\n",
       "      <th>2</th>\n",
       "      <td>SpaceX</td>\n",
       "      <td>03-Aug-08</td>\n",
       "      <td>03:34</td>\n",
       "      <td>Marshall Islands</td>\n",
       "      <td>NaN</td>\n",
       "      <td>NaN</td>\n",
       "      <td>NaN</td>\n",
       "      <td>Falcon 1</td>\n",
       "      <td>343</td>\n",
       "      <td>470</td>\n",
       "      <td>22.25</td>\n",
       "      <td>1.5</td>\n",
       "      <td>Trailblazer</td>\n",
       "      <td>Communication Satellite</td>\n",
       "      <td>NaN</td>\n",
       "      <td>Low Earth Orbit</td>\n",
       "      <td>Failure</td>\n",
       "      <td>Collision During Launch</td>\n",
       "      <td>0</td>\n",
       "    </tr>\n",
       "    <tr>\n",
       "      <th>3</th>\n",
       "      <td>SpaceX</td>\n",
       "      <td>03-Aug-08</td>\n",
       "      <td>03:34</td>\n",
       "      <td>Marshall Islands</td>\n",
       "      <td>NaN</td>\n",
       "      <td>NaN</td>\n",
       "      <td>NaN</td>\n",
       "      <td>Falcon 1</td>\n",
       "      <td>343</td>\n",
       "      <td>470</td>\n",
       "      <td>22.25</td>\n",
       "      <td>1.5</td>\n",
       "      <td>PRESat, NanoSail-D</td>\n",
       "      <td>Research Satellites</td>\n",
       "      <td>8</td>\n",
       "      <td>Low Earth Orbit</td>\n",
       "      <td>Failure</td>\n",
       "      <td>Collision During Launch</td>\n",
       "      <td>0</td>\n",
       "    </tr>\n",
       "    <tr>\n",
       "      <th>4</th>\n",
       "      <td>SpaceX</td>\n",
       "      <td>03-Aug-08</td>\n",
       "      <td>03:34</td>\n",
       "      <td>Marshall Islands</td>\n",
       "      <td>NaN</td>\n",
       "      <td>NaN</td>\n",
       "      <td>NaN</td>\n",
       "      <td>Falcon 1</td>\n",
       "      <td>343</td>\n",
       "      <td>470</td>\n",
       "      <td>22.25</td>\n",
       "      <td>1.5</td>\n",
       "      <td>Explorers</td>\n",
       "      <td>Human Remains</td>\n",
       "      <td>NaN</td>\n",
       "      <td>Low Earth Orbit</td>\n",
       "      <td>Failure</td>\n",
       "      <td>Collision During Launch</td>\n",
       "      <td>0</td>\n",
       "    </tr>\n",
       "  </tbody>\n",
       "</table>\n",
       "</div>"
      ],
      "text/plain": [
       "  Company Launch Date Launch Time       Launch Site  Temperature (° F)  \\\n",
       "0  SpaceX   24-Mar-06       22:30  Marshall Islands               86.0   \n",
       "1  SpaceX   21-Mar-07       01:10  Marshall Islands                NaN   \n",
       "2  SpaceX   03-Aug-08       03:34  Marshall Islands                NaN   \n",
       "3  SpaceX   03-Aug-08       03:34  Marshall Islands                NaN   \n",
       "4  SpaceX   03-Aug-08       03:34  Marshall Islands                NaN   \n",
       "\n",
       "   Wind speed (MPH)  Humidity (%) Vehicle Type  Liftoff Thrust (kN)  \\\n",
       "0               9.0          74.0     Falcon 1                  343   \n",
       "1               NaN           NaN     Falcon 1                  343   \n",
       "2               NaN           NaN     Falcon 1                  343   \n",
       "3               NaN           NaN     Falcon 1                  343   \n",
       "4               NaN           NaN     Falcon 1                  343   \n",
       "\n",
       "   Payload to Orbit (kg)  Rocket Height (m)  Fairing Diameter (m)  \\\n",
       "0                    470              22.25                   1.5   \n",
       "1                    470              22.25                   1.5   \n",
       "2                    470              22.25                   1.5   \n",
       "3                    470              22.25                   1.5   \n",
       "4                    470              22.25                   1.5   \n",
       "\n",
       "         Payload Name             Payload Type Payload Mass (kg)  \\\n",
       "0         FalconSAT-2       Research Satellite              19.5   \n",
       "1             DemoSat           Mass simulator               NaN   \n",
       "2         Trailblazer  Communication Satellite               NaN   \n",
       "3  PRESat, NanoSail-D      Research Satellites                 8   \n",
       "4           Explorers            Human Remains               NaN   \n",
       "\n",
       "     Payload Orbit Mission Status                 Failure Reason  \\\n",
       "0  Low Earth Orbit        Failure      Engine Fire During Launch   \n",
       "1  Low Earth Orbit        Failure  Engine Shutdown During Launch   \n",
       "2  Low Earth Orbit        Failure        Collision During Launch   \n",
       "3  Low Earth Orbit        Failure        Collision During Launch   \n",
       "4  Low Earth Orbit        Failure        Collision During Launch   \n",
       "\n",
       "   Mission Status N  \n",
       "0                 0  \n",
       "1                 0  \n",
       "2                 0  \n",
       "3                 0  \n",
       "4                 0  "
      ]
     },
     "execution_count": 11,
     "metadata": {},
     "output_type": "execute_result"
    }
   ],
   "source": [
    "# We need to encode our categories into numerical data so that our model is able to use it\n",
    "\n",
    "df['Mission Status N'] = LabelEncoder().fit_transform(df['Mission Status'])\n",
    "df.head()"
   ]
  },
  {
   "cell_type": "code",
   "execution_count": 12,
   "id": "90c079a8",
   "metadata": {},
   "outputs": [],
   "source": [
    "df['year'] = pd.DatetimeIndex(df['Launch Date']).year"
   ]
  },
  {
   "cell_type": "code",
   "execution_count": 13,
   "id": "652dab38",
   "metadata": {},
   "outputs": [
    {
     "data": {
      "text/html": [
       "<div>\n",
       "<style scoped>\n",
       "    .dataframe tbody tr th:only-of-type {\n",
       "        vertical-align: middle;\n",
       "    }\n",
       "\n",
       "    .dataframe tbody tr th {\n",
       "        vertical-align: top;\n",
       "    }\n",
       "\n",
       "    .dataframe thead th {\n",
       "        text-align: right;\n",
       "    }\n",
       "</style>\n",
       "<table border=\"1\" class=\"dataframe\">\n",
       "  <thead>\n",
       "    <tr style=\"text-align: right;\">\n",
       "      <th></th>\n",
       "      <th>Company</th>\n",
       "      <th>Launch Date</th>\n",
       "      <th>Launch Time</th>\n",
       "      <th>Launch Site</th>\n",
       "      <th>Temperature (° F)</th>\n",
       "      <th>Wind speed (MPH)</th>\n",
       "      <th>Humidity (%)</th>\n",
       "      <th>Vehicle Type</th>\n",
       "      <th>Liftoff Thrust (kN)</th>\n",
       "      <th>Payload to Orbit (kg)</th>\n",
       "      <th>Rocket Height (m)</th>\n",
       "      <th>Fairing Diameter (m)</th>\n",
       "      <th>Payload Name</th>\n",
       "      <th>Payload Type</th>\n",
       "      <th>Payload Mass (kg)</th>\n",
       "      <th>Payload Orbit</th>\n",
       "      <th>Mission Status</th>\n",
       "      <th>Failure Reason</th>\n",
       "      <th>Mission Status N</th>\n",
       "      <th>year</th>\n",
       "    </tr>\n",
       "  </thead>\n",
       "  <tbody>\n",
       "    <tr>\n",
       "      <th>0</th>\n",
       "      <td>SpaceX</td>\n",
       "      <td>24-Mar-06</td>\n",
       "      <td>22:30</td>\n",
       "      <td>Marshall Islands</td>\n",
       "      <td>86.0</td>\n",
       "      <td>9.0</td>\n",
       "      <td>74.0</td>\n",
       "      <td>Falcon 1</td>\n",
       "      <td>343</td>\n",
       "      <td>470</td>\n",
       "      <td>22.25</td>\n",
       "      <td>1.5</td>\n",
       "      <td>FalconSAT-2</td>\n",
       "      <td>Research Satellite</td>\n",
       "      <td>19.5</td>\n",
       "      <td>Low Earth Orbit</td>\n",
       "      <td>Failure</td>\n",
       "      <td>Engine Fire During Launch</td>\n",
       "      <td>0</td>\n",
       "      <td>2006</td>\n",
       "    </tr>\n",
       "    <tr>\n",
       "      <th>1</th>\n",
       "      <td>SpaceX</td>\n",
       "      <td>21-Mar-07</td>\n",
       "      <td>01:10</td>\n",
       "      <td>Marshall Islands</td>\n",
       "      <td>NaN</td>\n",
       "      <td>NaN</td>\n",
       "      <td>NaN</td>\n",
       "      <td>Falcon 1</td>\n",
       "      <td>343</td>\n",
       "      <td>470</td>\n",
       "      <td>22.25</td>\n",
       "      <td>1.5</td>\n",
       "      <td>DemoSat</td>\n",
       "      <td>Mass simulator</td>\n",
       "      <td>NaN</td>\n",
       "      <td>Low Earth Orbit</td>\n",
       "      <td>Failure</td>\n",
       "      <td>Engine Shutdown During Launch</td>\n",
       "      <td>0</td>\n",
       "      <td>2007</td>\n",
       "    </tr>\n",
       "    <tr>\n",
       "      <th>2</th>\n",
       "      <td>SpaceX</td>\n",
       "      <td>03-Aug-08</td>\n",
       "      <td>03:34</td>\n",
       "      <td>Marshall Islands</td>\n",
       "      <td>NaN</td>\n",
       "      <td>NaN</td>\n",
       "      <td>NaN</td>\n",
       "      <td>Falcon 1</td>\n",
       "      <td>343</td>\n",
       "      <td>470</td>\n",
       "      <td>22.25</td>\n",
       "      <td>1.5</td>\n",
       "      <td>Trailblazer</td>\n",
       "      <td>Communication Satellite</td>\n",
       "      <td>NaN</td>\n",
       "      <td>Low Earth Orbit</td>\n",
       "      <td>Failure</td>\n",
       "      <td>Collision During Launch</td>\n",
       "      <td>0</td>\n",
       "      <td>2008</td>\n",
       "    </tr>\n",
       "    <tr>\n",
       "      <th>3</th>\n",
       "      <td>SpaceX</td>\n",
       "      <td>03-Aug-08</td>\n",
       "      <td>03:34</td>\n",
       "      <td>Marshall Islands</td>\n",
       "      <td>NaN</td>\n",
       "      <td>NaN</td>\n",
       "      <td>NaN</td>\n",
       "      <td>Falcon 1</td>\n",
       "      <td>343</td>\n",
       "      <td>470</td>\n",
       "      <td>22.25</td>\n",
       "      <td>1.5</td>\n",
       "      <td>PRESat, NanoSail-D</td>\n",
       "      <td>Research Satellites</td>\n",
       "      <td>8</td>\n",
       "      <td>Low Earth Orbit</td>\n",
       "      <td>Failure</td>\n",
       "      <td>Collision During Launch</td>\n",
       "      <td>0</td>\n",
       "      <td>2008</td>\n",
       "    </tr>\n",
       "    <tr>\n",
       "      <th>4</th>\n",
       "      <td>SpaceX</td>\n",
       "      <td>03-Aug-08</td>\n",
       "      <td>03:34</td>\n",
       "      <td>Marshall Islands</td>\n",
       "      <td>NaN</td>\n",
       "      <td>NaN</td>\n",
       "      <td>NaN</td>\n",
       "      <td>Falcon 1</td>\n",
       "      <td>343</td>\n",
       "      <td>470</td>\n",
       "      <td>22.25</td>\n",
       "      <td>1.5</td>\n",
       "      <td>Explorers</td>\n",
       "      <td>Human Remains</td>\n",
       "      <td>NaN</td>\n",
       "      <td>Low Earth Orbit</td>\n",
       "      <td>Failure</td>\n",
       "      <td>Collision During Launch</td>\n",
       "      <td>0</td>\n",
       "      <td>2008</td>\n",
       "    </tr>\n",
       "  </tbody>\n",
       "</table>\n",
       "</div>"
      ],
      "text/plain": [
       "  Company Launch Date Launch Time       Launch Site  Temperature (° F)  \\\n",
       "0  SpaceX   24-Mar-06       22:30  Marshall Islands               86.0   \n",
       "1  SpaceX   21-Mar-07       01:10  Marshall Islands                NaN   \n",
       "2  SpaceX   03-Aug-08       03:34  Marshall Islands                NaN   \n",
       "3  SpaceX   03-Aug-08       03:34  Marshall Islands                NaN   \n",
       "4  SpaceX   03-Aug-08       03:34  Marshall Islands                NaN   \n",
       "\n",
       "   Wind speed (MPH)  Humidity (%) Vehicle Type  Liftoff Thrust (kN)  \\\n",
       "0               9.0          74.0     Falcon 1                  343   \n",
       "1               NaN           NaN     Falcon 1                  343   \n",
       "2               NaN           NaN     Falcon 1                  343   \n",
       "3               NaN           NaN     Falcon 1                  343   \n",
       "4               NaN           NaN     Falcon 1                  343   \n",
       "\n",
       "   Payload to Orbit (kg)  Rocket Height (m)  Fairing Diameter (m)  \\\n",
       "0                    470              22.25                   1.5   \n",
       "1                    470              22.25                   1.5   \n",
       "2                    470              22.25                   1.5   \n",
       "3                    470              22.25                   1.5   \n",
       "4                    470              22.25                   1.5   \n",
       "\n",
       "         Payload Name             Payload Type Payload Mass (kg)  \\\n",
       "0         FalconSAT-2       Research Satellite              19.5   \n",
       "1             DemoSat           Mass simulator               NaN   \n",
       "2         Trailblazer  Communication Satellite               NaN   \n",
       "3  PRESat, NanoSail-D      Research Satellites                 8   \n",
       "4           Explorers            Human Remains               NaN   \n",
       "\n",
       "     Payload Orbit Mission Status                 Failure Reason  \\\n",
       "0  Low Earth Orbit        Failure      Engine Fire During Launch   \n",
       "1  Low Earth Orbit        Failure  Engine Shutdown During Launch   \n",
       "2  Low Earth Orbit        Failure        Collision During Launch   \n",
       "3  Low Earth Orbit        Failure        Collision During Launch   \n",
       "4  Low Earth Orbit        Failure        Collision During Launch   \n",
       "\n",
       "   Mission Status N  year  \n",
       "0                 0  2006  \n",
       "1                 0  2007  \n",
       "2                 0  2008  \n",
       "3                 0  2008  \n",
       "4                 0  2008  "
      ]
     },
     "execution_count": 13,
     "metadata": {},
     "output_type": "execute_result"
    }
   ],
   "source": [
    "df.head()"
   ]
  },
  {
   "cell_type": "code",
   "execution_count": 14,
   "id": "d20d1f3f",
   "metadata": {},
   "outputs": [
    {
     "data": {
      "text/plain": [
       "Index(['Company', 'Launch Date', 'Launch Time', 'Launch Site',\n",
       "       'Temperature (° F)', 'Wind speed (MPH)', 'Humidity (%)', 'Vehicle Type',\n",
       "       'Liftoff Thrust (kN)', 'Payload to Orbit (kg)', 'Rocket Height (m)',\n",
       "       'Fairing Diameter (m)', 'Payload Name', 'Payload Type',\n",
       "       'Payload Mass (kg)', 'Payload Orbit', 'Mission Status',\n",
       "       'Failure Reason', 'Mission Status N', 'year'],\n",
       "      dtype='object')"
      ]
     },
     "execution_count": 14,
     "metadata": {},
     "output_type": "execute_result"
    }
   ],
   "source": [
    "df.columns"
   ]
  },
  {
   "cell_type": "code",
   "execution_count": 15,
   "id": "212f6ff8",
   "metadata": {},
   "outputs": [
    {
     "data": {
      "text/html": [
       "<div>\n",
       "<style scoped>\n",
       "    .dataframe tbody tr th:only-of-type {\n",
       "        vertical-align: middle;\n",
       "    }\n",
       "\n",
       "    .dataframe tbody tr th {\n",
       "        vertical-align: top;\n",
       "    }\n",
       "\n",
       "    .dataframe thead th {\n",
       "        text-align: right;\n",
       "    }\n",
       "</style>\n",
       "<table border=\"1\" class=\"dataframe\">\n",
       "  <thead>\n",
       "    <tr style=\"text-align: right;\">\n",
       "      <th></th>\n",
       "      <th>Company</th>\n",
       "      <th>Mission Status N</th>\n",
       "    </tr>\n",
       "  </thead>\n",
       "  <tbody>\n",
       "    <tr>\n",
       "      <th>5</th>\n",
       "      <td>SpaceX</td>\n",
       "      <td>96</td>\n",
       "    </tr>\n",
       "    <tr>\n",
       "      <th>1</th>\n",
       "      <td>Boeing</td>\n",
       "      <td>37</td>\n",
       "    </tr>\n",
       "    <tr>\n",
       "      <th>6</th>\n",
       "      <td>US Air Force</td>\n",
       "      <td>7</td>\n",
       "    </tr>\n",
       "    <tr>\n",
       "      <th>0</th>\n",
       "      <td>Arianespace</td>\n",
       "      <td>4</td>\n",
       "    </tr>\n",
       "    <tr>\n",
       "      <th>2</th>\n",
       "      <td>Brazilian Space Agency</td>\n",
       "      <td>3</td>\n",
       "    </tr>\n",
       "    <tr>\n",
       "      <th>3</th>\n",
       "      <td>European Space Agency</td>\n",
       "      <td>2</td>\n",
       "    </tr>\n",
       "    <tr>\n",
       "      <th>4</th>\n",
       "      <td>Martin Marietta</td>\n",
       "      <td>1</td>\n",
       "    </tr>\n",
       "  </tbody>\n",
       "</table>\n",
       "</div>"
      ],
      "text/plain": [
       "                  Company  Mission Status N\n",
       "5                  SpaceX                96\n",
       "1                  Boeing                37\n",
       "6            US Air Force                 7\n",
       "0             Arianespace                 4\n",
       "2  Brazilian Space Agency                 3\n",
       "3   European Space Agency                 2\n",
       "4         Martin Marietta                 1"
      ]
     },
     "execution_count": 15,
     "metadata": {},
     "output_type": "execute_result"
    }
   ],
   "source": [
    "# Group the dataset by Company and using sum method to get the Mission status descending order. \n",
    "\n",
    "Company = df[['Company','Mission Status N']].groupby('Company').count()\n",
    "Company.reset_index(level=0,inplace=True)\n",
    "Company.sort_values(by='Mission Status N',ascending=False,inplace=True)\n",
    "Company.head(10)"
   ]
  },
  {
   "cell_type": "code",
   "execution_count": 16,
   "id": "34341041",
   "metadata": {},
   "outputs": [
    {
     "data": {
      "text/plain": [
       "(7, 2)"
      ]
     },
     "execution_count": 16,
     "metadata": {},
     "output_type": "execute_result"
    }
   ],
   "source": [
    "Company.shape"
   ]
  },
  {
   "cell_type": "code",
   "execution_count": 17,
   "id": "0e462188",
   "metadata": {},
   "outputs": [
    {
     "data": {
      "text/plain": [
       "Text(0, 0.5, 'Mission Status')"
      ]
     },
     "execution_count": 17,
     "metadata": {},
     "output_type": "execute_result"
    },
    {
     "data": {
      "image/png": "[encoded data removed]",
      "text/plain": [
       "<Figure size 1440x504 with 1 Axes>"
      ]
     },
     "metadata": {
      "needs_background": "light"
     },
     "output_type": "display_data"
    }
   ],
   "source": [
    "#Creating a Bar chart to visualize the Company wise Mission Status\n",
    "plt.figure(figsize=(20,7))\n",
    "sns.barplot(x=Company['Company'], y = Company['Mission Status N'])\n",
    "plt.title('Company wise Mission Status',fontsize =20)\n",
    "plt.xlabel('Company',fontsize=20)\n",
    "plt.ylabel('Mission Status',fontsize=20)"
   ]
  },
  {
   "cell_type": "code",
   "execution_count": 18,
   "id": "2b8c2fed",
   "metadata": {},
   "outputs": [
    {
     "data": {
      "text/html": [
       "<div>\n",
       "<style scoped>\n",
       "    .dataframe tbody tr th:only-of-type {\n",
       "        vertical-align: middle;\n",
       "    }\n",
       "\n",
       "    .dataframe tbody tr th {\n",
       "        vertical-align: top;\n",
       "    }\n",
       "\n",
       "    .dataframe thead th {\n",
       "        text-align: right;\n",
       "    }\n",
       "</style>\n",
       "<table border=\"1\" class=\"dataframe\">\n",
       "  <thead>\n",
       "    <tr style=\"text-align: right;\">\n",
       "      <th></th>\n",
       "      <th>Launch Site</th>\n",
       "      <th>Mission Status N</th>\n",
       "    </tr>\n",
       "  </thead>\n",
       "  <tbody>\n",
       "    <tr>\n",
       "      <th>2</th>\n",
       "      <td>Cape Canaveral</td>\n",
       "      <td>85</td>\n",
       "    </tr>\n",
       "    <tr>\n",
       "      <th>5</th>\n",
       "      <td>Vandenberg</td>\n",
       "      <td>30</td>\n",
       "    </tr>\n",
       "    <tr>\n",
       "      <th>3</th>\n",
       "      <td>Kennedy Space Center</td>\n",
       "      <td>19</td>\n",
       "    </tr>\n",
       "    <tr>\n",
       "      <th>4</th>\n",
       "      <td>Marshall Islands</td>\n",
       "      <td>7</td>\n",
       "    </tr>\n",
       "    <tr>\n",
       "      <th>0</th>\n",
       "      <td>Guiana Space Centre</td>\n",
       "      <td>6</td>\n",
       "    </tr>\n",
       "    <tr>\n",
       "      <th>1</th>\n",
       "      <td>Alcântara Launch Center</td>\n",
       "      <td>3</td>\n",
       "    </tr>\n",
       "  </tbody>\n",
       "</table>\n",
       "</div>"
      ],
      "text/plain": [
       "               Launch Site  Mission Status N\n",
       "2           Cape Canaveral                85\n",
       "5              Vandenberg                 30\n",
       "3     Kennedy Space Center                19\n",
       "4         Marshall Islands                 7\n",
       "0      Guiana Space Centre                 6\n",
       "1  Alcântara Launch Center                 3"
      ]
     },
     "execution_count": 18,
     "metadata": {},
     "output_type": "execute_result"
    }
   ],
   "source": [
    "# Group the dataset by Launch_Site and using sum method to get the Mission status descending order. \n",
    "\n",
    "Launch_Site = df[['Launch Site','Mission Status N']].groupby('Launch Site').count()\n",
    "Launch_Site.reset_index(level=0,inplace=True)\n",
    "Launch_Site.sort_values(by='Mission Status N',ascending=False,inplace=True)\n",
    "Launch_Site.head(10)"
   ]
  },
  {
   "cell_type": "code",
   "execution_count": 19,
   "id": "54a44cc9",
   "metadata": {},
   "outputs": [
    {
     "data": {
      "text/plain": [
       "Text(0, 0.5, 'Number of spave Mission')"
      ]
     },
     "execution_count": 19,
     "metadata": {},
     "output_type": "execute_result"
    },
    {
     "data": {
      "image/png": "[encoded data removed]",
      "text/plain": [
       "<Figure size 1440x504 with 1 Axes>"
      ]
     },
     "metadata": {
      "needs_background": "light"
     },
     "output_type": "display_data"
    }
   ],
   "source": [
    "#Creating a Bar chart to visualize the Launch_Site  wise Number of space Mission\n",
    "plt.figure(figsize=(20,7))\n",
    "sns.barplot(x=Launch_Site['Launch Site'], y = Launch_Site['Mission Status N'])\n",
    "plt.title('Launch_Site wise Number of space Mission ',fontsize =20)\n",
    "plt.xlabel('Launch_Site',fontsize=20)\n",
    "plt.ylabel('Number of spave Mission',fontsize=20)"
   ]
  },
  {
   "cell_type": "code",
   "execution_count": null,
   "id": "9ce45808",
   "metadata": {},
   "outputs": [],
   "source": []
  },
  {
   "cell_type": "code",
   "execution_count": null,
   "id": "e1f4bbec",
   "metadata": {},
   "outputs": [],
   "source": []
  },
  {
   "cell_type": "code",
   "execution_count": null,
   "id": "ef30d9d1",
   "metadata": {},
   "outputs": [],
   "source": []
  },
  {
   "cell_type": "code",
   "execution_count": null,
   "id": "ee353a49",
   "metadata": {},
   "outputs": [],
   "source": []
  },
  {
   "cell_type": "code",
   "execution_count": 20,
   "id": "f1afa164",
   "metadata": {},
   "outputs": [
    {
     "data": {
      "text/html": [
       "<div>\n",
       "<style scoped>\n",
       "    .dataframe tbody tr th:only-of-type {\n",
       "        vertical-align: middle;\n",
       "    }\n",
       "\n",
       "    .dataframe tbody tr th {\n",
       "        vertical-align: top;\n",
       "    }\n",
       "\n",
       "    .dataframe thead th {\n",
       "        text-align: right;\n",
       "    }\n",
       "</style>\n",
       "<table border=\"1\" class=\"dataframe\">\n",
       "  <thead>\n",
       "    <tr style=\"text-align: right;\">\n",
       "      <th></th>\n",
       "      <th>year</th>\n",
       "      <th>Mission Status N</th>\n",
       "    </tr>\n",
       "  </thead>\n",
       "  <tbody>\n",
       "    <tr>\n",
       "      <th>27</th>\n",
       "      <td>2018</td>\n",
       "      <td>21</td>\n",
       "    </tr>\n",
       "    <tr>\n",
       "      <th>26</th>\n",
       "      <td>2017</td>\n",
       "      <td>18</td>\n",
       "    </tr>\n",
       "    <tr>\n",
       "      <th>28</th>\n",
       "      <td>2019</td>\n",
       "      <td>14</td>\n",
       "    </tr>\n",
       "    <tr>\n",
       "      <th>10</th>\n",
       "      <td>1999</td>\n",
       "      <td>12</td>\n",
       "    </tr>\n",
       "    <tr>\n",
       "      <th>25</th>\n",
       "      <td>2016</td>\n",
       "      <td>10</td>\n",
       "    </tr>\n",
       "    <tr>\n",
       "      <th>24</th>\n",
       "      <td>2015</td>\n",
       "      <td>8</td>\n",
       "    </tr>\n",
       "    <tr>\n",
       "      <th>11</th>\n",
       "      <td>2000</td>\n",
       "      <td>7</td>\n",
       "    </tr>\n",
       "    <tr>\n",
       "      <th>12</th>\n",
       "      <td>2001</td>\n",
       "      <td>7</td>\n",
       "    </tr>\n",
       "    <tr>\n",
       "      <th>23</th>\n",
       "      <td>2014</td>\n",
       "      <td>6</td>\n",
       "    </tr>\n",
       "    <tr>\n",
       "      <th>13</th>\n",
       "      <td>2002</td>\n",
       "      <td>5</td>\n",
       "    </tr>\n",
       "  </tbody>\n",
       "</table>\n",
       "</div>"
      ],
      "text/plain": [
       "    year  Mission Status N\n",
       "27  2018                21\n",
       "26  2017                18\n",
       "28  2019                14\n",
       "10  1999                12\n",
       "25  2016                10\n",
       "24  2015                 8\n",
       "11  2000                 7\n",
       "12  2001                 7\n",
       "23  2014                 6\n",
       "13  2002                 5"
      ]
     },
     "execution_count": 20,
     "metadata": {},
     "output_type": "execute_result"
    }
   ],
   "source": [
    "# Group the dataset by Company and using sum method to get the Mission status descending order. \n",
    "\n",
    "year = df[['year','Mission Status N']].groupby('year').count()\n",
    "year.reset_index(level=0,inplace=True)\n",
    "year.sort_values(by='Mission Status N',ascending=False,inplace=True)\n",
    "year.head(10)"
   ]
  },
  {
   "cell_type": "code",
   "execution_count": 21,
   "id": "81f021e0",
   "metadata": {},
   "outputs": [
    {
     "data": {
      "text/plain": [
       "(33, 2)"
      ]
     },
     "execution_count": 21,
     "metadata": {},
     "output_type": "execute_result"
    }
   ],
   "source": [
    "year.shape"
   ]
  },
  {
   "cell_type": "code",
   "execution_count": 22,
   "id": "dd0a8cb9",
   "metadata": {},
   "outputs": [
    {
     "data": {
      "text/plain": [
       "Text(0, 0.5, 'Number of space mission')"
      ]
     },
     "execution_count": 22,
     "metadata": {},
     "output_type": "execute_result"
    },
    {
     "data": {
      "image/png": "[encoded data removed]",
      "text/plain": [
       "<Figure size 1440x504 with 1 Axes>"
      ]
     },
     "metadata": {
      "needs_background": "light"
     },
     "output_type": "display_data"
    }
   ],
   "source": [
    "plt.figure(figsize=(20,7))\n",
    "sns.barplot(x=year['year'], y = year['Mission Status N'])\n",
    "plt.title('Year wise Number of Space Mission',fontsize =20)\n",
    "plt.xlabel('year',fontsize=20)\n",
    "plt.ylabel('Number of space mission',fontsize=20)"
   ]
  },
  {
   "cell_type": "code",
   "execution_count": 23,
   "id": "f55ee10b",
   "metadata": {},
   "outputs": [
    {
     "data": {
      "text/html": [
       "<div>\n",
       "<style scoped>\n",
       "    .dataframe tbody tr th:only-of-type {\n",
       "        vertical-align: middle;\n",
       "    }\n",
       "\n",
       "    .dataframe tbody tr th {\n",
       "        vertical-align: top;\n",
       "    }\n",
       "\n",
       "    .dataframe thead th {\n",
       "        text-align: right;\n",
       "    }\n",
       "</style>\n",
       "<table border=\"1\" class=\"dataframe\">\n",
       "  <thead>\n",
       "    <tr style=\"text-align: right;\">\n",
       "      <th></th>\n",
       "      <th>Vehicle Type</th>\n",
       "      <th>Mission Status N</th>\n",
       "    </tr>\n",
       "  </thead>\n",
       "  <tbody>\n",
       "    <tr>\n",
       "      <th>21</th>\n",
       "      <td>Falcon 9 Block 5</td>\n",
       "      <td>26</td>\n",
       "    </tr>\n",
       "    <tr>\n",
       "      <th>22</th>\n",
       "      <td>Falcon 9 Full Thrust (v1.2)</td>\n",
       "      <td>18</td>\n",
       "    </tr>\n",
       "    <tr>\n",
       "      <th>18</th>\n",
       "      <td>Falcon 9 (v1.1)</td>\n",
       "      <td>16</td>\n",
       "    </tr>\n",
       "    <tr>\n",
       "      <th>20</th>\n",
       "      <td>Falcon 9 Block 4</td>\n",
       "      <td>12</td>\n",
       "    </tr>\n",
       "    <tr>\n",
       "      <th>12</th>\n",
       "      <td>Delta II 7925</td>\n",
       "      <td>10</td>\n",
       "    </tr>\n",
       "    <tr>\n",
       "      <th>19</th>\n",
       "      <td>Falcon 9 Block 3</td>\n",
       "      <td>8</td>\n",
       "    </tr>\n",
       "    <tr>\n",
       "      <th>16</th>\n",
       "      <td>Falcon 1</td>\n",
       "      <td>7</td>\n",
       "    </tr>\n",
       "    <tr>\n",
       "      <th>17</th>\n",
       "      <td>Falcon 9 (v1.0)</td>\n",
       "      <td>6</td>\n",
       "    </tr>\n",
       "    <tr>\n",
       "      <th>11</th>\n",
       "      <td>Delta II 7920-10C</td>\n",
       "      <td>5</td>\n",
       "    </tr>\n",
       "    <tr>\n",
       "      <th>6</th>\n",
       "      <td>Delta II 7420-10C</td>\n",
       "      <td>4</td>\n",
       "    </tr>\n",
       "  </tbody>\n",
       "</table>\n",
       "</div>"
      ],
      "text/plain": [
       "                   Vehicle Type  Mission Status N\n",
       "21             Falcon 9 Block 5                26\n",
       "22  Falcon 9 Full Thrust (v1.2)                18\n",
       "18              Falcon 9 (v1.1)                16\n",
       "20             Falcon 9 Block 4                12\n",
       "12                Delta II 7925                10\n",
       "19             Falcon 9 Block 3                 8\n",
       "16                     Falcon 1                 7\n",
       "17              Falcon 9 (v1.0)                 6\n",
       "11            Delta II 7920-10C                 5\n",
       "6             Delta II 7420-10C                 4"
      ]
     },
     "execution_count": 23,
     "metadata": {},
     "output_type": "execute_result"
    }
   ],
   "source": [
    "# Group the dataset by Vehicle Type and using sum method to get the Mission status descending order. \n",
    "\n",
    "Vehicle_Type = df[['Vehicle Type','Mission Status N']].groupby('Vehicle Type').count()\n",
    "Vehicle_Type.reset_index(level=0,inplace=True)\n",
    "Vehicle_Type.sort_values(by='Mission Status N',ascending=False,inplace=True)\n",
    "Vehicle_Type.head(10)"
   ]
  },
  {
   "cell_type": "code",
   "execution_count": 24,
   "id": "553cf580",
   "metadata": {},
   "outputs": [
    {
     "data": {
      "text/plain": [
       "(31, 2)"
      ]
     },
     "execution_count": 24,
     "metadata": {},
     "output_type": "execute_result"
    }
   ],
   "source": [
    "Vehicle_Type.shape"
   ]
  },
  {
   "cell_type": "code",
   "execution_count": 25,
   "id": "bd75edf3",
   "metadata": {},
   "outputs": [
    {
     "data": {
      "text/plain": [
       "Text(0, 0.5, 'Number of space mission')"
      ]
     },
     "execution_count": 25,
     "metadata": {},
     "output_type": "execute_result"
    },
    {
     "data": {
      "image/png": "[encoded data removed]",
      "text/plain": [
       "<Figure size 1440x504 with 1 Axes>"
      ]
     },
     "metadata": {
      "needs_background": "light"
     },
     "output_type": "display_data"
    }
   ],
   "source": [
    "plt.figure(figsize=(20,7))\n",
    "sns.barplot(x=Vehicle_Type['Vehicle Type'], y = Vehicle_Type['Mission Status N'])\n",
    "plt.title('Year wise Number of Space Mission',fontsize =20)\n",
    "plt.xlabel('year',fontsize=20)\n",
    "plt.ylabel('Number of space mission',fontsize=20)"
   ]
  },
  {
   "cell_type": "code",
   "execution_count": null,
   "id": "540a10c6",
   "metadata": {},
   "outputs": [],
   "source": []
  },
  {
   "cell_type": "code",
   "execution_count": null,
   "id": "a5167995",
   "metadata": {},
   "outputs": [],
   "source": []
  },
  {
   "cell_type": "code",
   "execution_count": null,
   "id": "d6de0b6f",
   "metadata": {},
   "outputs": [],
   "source": []
  },
  {
   "cell_type": "code",
   "execution_count": null,
   "id": "b99dceda",
   "metadata": {},
   "outputs": [],
   "source": []
  },
  {
   "cell_type": "code",
   "execution_count": null,
   "id": "ed213cab",
   "metadata": {},
   "outputs": [],
   "source": []
  },
  {
   "cell_type": "code",
   "execution_count": null,
   "id": "f4b7d537",
   "metadata": {},
   "outputs": [],
   "source": []
  },
  {
   "cell_type": "code",
   "execution_count": 26,
   "id": "f6f26598",
   "metadata": {},
   "outputs": [
    {
     "data": {
      "text/html": [
       "<div>\n",
       "<style scoped>\n",
       "    .dataframe tbody tr th:only-of-type {\n",
       "        vertical-align: middle;\n",
       "    }\n",
       "\n",
       "    .dataframe tbody tr th {\n",
       "        vertical-align: top;\n",
       "    }\n",
       "\n",
       "    .dataframe thead th {\n",
       "        text-align: right;\n",
       "    }\n",
       "</style>\n",
       "<table border=\"1\" class=\"dataframe\">\n",
       "  <thead>\n",
       "    <tr style=\"text-align: right;\">\n",
       "      <th></th>\n",
       "      <th>Temperature (° F)</th>\n",
       "      <th>Mission Status N</th>\n",
       "    </tr>\n",
       "  </thead>\n",
       "  <tbody>\n",
       "    <tr>\n",
       "      <th>30</th>\n",
       "      <td>77.0</td>\n",
       "      <td>10</td>\n",
       "    </tr>\n",
       "    <tr>\n",
       "      <th>28</th>\n",
       "      <td>75.0</td>\n",
       "      <td>7</td>\n",
       "    </tr>\n",
       "    <tr>\n",
       "      <th>21</th>\n",
       "      <td>68.0</td>\n",
       "      <td>7</td>\n",
       "    </tr>\n",
       "    <tr>\n",
       "      <th>25</th>\n",
       "      <td>72.0</td>\n",
       "      <td>6</td>\n",
       "    </tr>\n",
       "    <tr>\n",
       "      <th>34</th>\n",
       "      <td>81.0</td>\n",
       "      <td>5</td>\n",
       "    </tr>\n",
       "    <tr>\n",
       "      <th>32</th>\n",
       "      <td>79.0</td>\n",
       "      <td>4</td>\n",
       "    </tr>\n",
       "    <tr>\n",
       "      <th>27</th>\n",
       "      <td>74.0</td>\n",
       "      <td>4</td>\n",
       "    </tr>\n",
       "    <tr>\n",
       "      <th>4</th>\n",
       "      <td>50.0</td>\n",
       "      <td>4</td>\n",
       "    </tr>\n",
       "    <tr>\n",
       "      <th>5</th>\n",
       "      <td>51.0</td>\n",
       "      <td>4</td>\n",
       "    </tr>\n",
       "    <tr>\n",
       "      <th>40</th>\n",
       "      <td>88.0</td>\n",
       "      <td>4</td>\n",
       "    </tr>\n",
       "  </tbody>\n",
       "</table>\n",
       "</div>"
      ],
      "text/plain": [
       "    Temperature (° F)  Mission Status N\n",
       "30               77.0                10\n",
       "28               75.0                 7\n",
       "21               68.0                 7\n",
       "25               72.0                 6\n",
       "34               81.0                 5\n",
       "32               79.0                 4\n",
       "27               74.0                 4\n",
       "4                50.0                 4\n",
       "5                51.0                 4\n",
       "40               88.0                 4"
      ]
     },
     "execution_count": 26,
     "metadata": {},
     "output_type": "execute_result"
    }
   ],
   "source": [
    "# Group the dataset by Temp and using sum method to get the Mission Status descending order. \n",
    "\n",
    "Temp = df[['Temperature (° F)','Mission Status N']].groupby('Temperature (° F)').sum()\n",
    "Temp.reset_index(level=0,inplace=True)\n",
    "Temp.sort_values(by='Mission Status N',ascending=False,inplace=True)\n",
    "Temp.head(10)"
   ]
  },
  {
   "cell_type": "code",
   "execution_count": 27,
   "id": "c0571550",
   "metadata": {},
   "outputs": [
    {
     "data": {
      "text/plain": [
       "(45, 2)"
      ]
     },
     "execution_count": 27,
     "metadata": {},
     "output_type": "execute_result"
    }
   ],
   "source": [
    "Temp.shape"
   ]
  },
  {
   "cell_type": "code",
   "execution_count": 28,
   "id": "87def999",
   "metadata": {},
   "outputs": [],
   "source": [
    "df2 = pd.DataFrame(Temp)\n",
    "  \n",
    "X = list(df2.iloc[:, 0])\n",
    "Y = list(df2.iloc[:, 1])"
   ]
  },
  {
   "cell_type": "code",
   "execution_count": 29,
   "id": "96e4c1ba",
   "metadata": {},
   "outputs": [
    {
     "data": {
      "image/png": "[encoded data removed]",
      "text/plain": [
       "<Figure size 432x288 with 1 Axes>"
      ]
     },
     "metadata": {
      "needs_background": "light"
     },
     "output_type": "display_data"
    }
   ],
   "source": [
    "# Plot the data using bar() method\n",
    "plt.bar(X, Y, color='g')\n",
    "plt.title(\"Temp Vs Success Mission\")\n",
    "plt.xlabel(\"Temprature\")\n",
    "plt.ylabel(\"Number of Success Mission\")\n",
    "  \n",
    "# Show the plot\n",
    "plt.show()"
   ]
  },
  {
   "cell_type": "code",
   "execution_count": 30,
   "id": "babad273",
   "metadata": {},
   "outputs": [
    {
     "data": {
      "text/html": [
       "<div>\n",
       "<style scoped>\n",
       "    .dataframe tbody tr th:only-of-type {\n",
       "        vertical-align: middle;\n",
       "    }\n",
       "\n",
       "    .dataframe tbody tr th {\n",
       "        vertical-align: top;\n",
       "    }\n",
       "\n",
       "    .dataframe thead th {\n",
       "        text-align: right;\n",
       "    }\n",
       "</style>\n",
       "<table border=\"1\" class=\"dataframe\">\n",
       "  <thead>\n",
       "    <tr style=\"text-align: right;\">\n",
       "      <th></th>\n",
       "      <th>Wind speed (MPH)</th>\n",
       "      <th>Mission Status N</th>\n",
       "    </tr>\n",
       "  </thead>\n",
       "  <tbody>\n",
       "    <tr>\n",
       "      <th>6</th>\n",
       "      <td>9.0</td>\n",
       "      <td>17</td>\n",
       "    </tr>\n",
       "    <tr>\n",
       "      <th>0</th>\n",
       "      <td>0.0</td>\n",
       "      <td>16</td>\n",
       "    </tr>\n",
       "    <tr>\n",
       "      <th>5</th>\n",
       "      <td>8.0</td>\n",
       "      <td>16</td>\n",
       "    </tr>\n",
       "    <tr>\n",
       "      <th>8</th>\n",
       "      <td>12.0</td>\n",
       "      <td>14</td>\n",
       "    </tr>\n",
       "    <tr>\n",
       "      <th>1</th>\n",
       "      <td>3.0</td>\n",
       "      <td>12</td>\n",
       "    </tr>\n",
       "    <tr>\n",
       "      <th>2</th>\n",
       "      <td>5.0</td>\n",
       "      <td>9</td>\n",
       "    </tr>\n",
       "    <tr>\n",
       "      <th>3</th>\n",
       "      <td>6.0</td>\n",
       "      <td>8</td>\n",
       "    </tr>\n",
       "    <tr>\n",
       "      <th>9</th>\n",
       "      <td>13.0</td>\n",
       "      <td>7</td>\n",
       "    </tr>\n",
       "    <tr>\n",
       "      <th>4</th>\n",
       "      <td>7.0</td>\n",
       "      <td>6</td>\n",
       "    </tr>\n",
       "    <tr>\n",
       "      <th>7</th>\n",
       "      <td>10.0</td>\n",
       "      <td>2</td>\n",
       "    </tr>\n",
       "  </tbody>\n",
       "</table>\n",
       "</div>"
      ],
      "text/plain": [
       "   Wind speed (MPH)  Mission Status N\n",
       "6               9.0                17\n",
       "0               0.0                16\n",
       "5               8.0                16\n",
       "8              12.0                14\n",
       "1               3.0                12\n",
       "2               5.0                 9\n",
       "3               6.0                 8\n",
       "9              13.0                 7\n",
       "4               7.0                 6\n",
       "7              10.0                 2"
      ]
     },
     "execution_count": 30,
     "metadata": {},
     "output_type": "execute_result"
    }
   ],
   "source": [
    "# Group the dataset by Wind speed and using sum method to get the Mission Status descending order. \n",
    "\n",
    "Wind_speed = df[['Wind speed (MPH)','Mission Status N']].groupby('Wind speed (MPH)').sum()\n",
    "Wind_speed.reset_index(level=0,inplace=True)\n",
    "Wind_speed.sort_values(by='Mission Status N',ascending=False,inplace=True)\n",
    "Wind_speed.head(10)"
   ]
  },
  {
   "cell_type": "code",
   "execution_count": 31,
   "id": "636bfb4c",
   "metadata": {},
   "outputs": [
    {
     "data": {
      "text/plain": [
       "(18, 2)"
      ]
     },
     "execution_count": 31,
     "metadata": {},
     "output_type": "execute_result"
    }
   ],
   "source": [
    "Wind_speed.shape"
   ]
  },
  {
   "cell_type": "code",
   "execution_count": 32,
   "id": "90f19e95",
   "metadata": {},
   "outputs": [],
   "source": [
    "df3 = pd.DataFrame(Wind_speed)\n",
    "  \n",
    "X = list(df3.iloc[:, 0])\n",
    "Y = list(df3.iloc[:, 1])"
   ]
  },
  {
   "cell_type": "code",
   "execution_count": 33,
   "id": "838db8e0",
   "metadata": {},
   "outputs": [
    {
     "data": {
      "image/png": "[encoded data removed]",
      "text/plain": [
       "<Figure size 432x288 with 1 Axes>"
      ]
     },
     "metadata": {
      "needs_background": "light"
     },
     "output_type": "display_data"
    }
   ],
   "source": [
    "# Plot the data using bar() method\n",
    "plt.bar(X, Y, color='r')\n",
    "plt.title(\"Wind speed Vs Number of Success Mission\")\n",
    "plt.xlabel(\"Wind speed\")\n",
    "plt.ylabel(\"Number of Success Mission\")\n",
    "  \n",
    "# Show the plot\n",
    "plt.show()"
   ]
  },
  {
   "cell_type": "code",
   "execution_count": 34,
   "id": "ba25ec9a",
   "metadata": {},
   "outputs": [
    {
     "data": {
      "text/html": [
       "<div>\n",
       "<style scoped>\n",
       "    .dataframe tbody tr th:only-of-type {\n",
       "        vertical-align: middle;\n",
       "    }\n",
       "\n",
       "    .dataframe tbody tr th {\n",
       "        vertical-align: top;\n",
       "    }\n",
       "\n",
       "    .dataframe thead th {\n",
       "        text-align: right;\n",
       "    }\n",
       "</style>\n",
       "<table border=\"1\" class=\"dataframe\">\n",
       "  <thead>\n",
       "    <tr style=\"text-align: right;\">\n",
       "      <th></th>\n",
       "      <th>Humidity (%)</th>\n",
       "      <th>Mission Status N</th>\n",
       "    </tr>\n",
       "  </thead>\n",
       "  <tbody>\n",
       "    <tr>\n",
       "      <th>46</th>\n",
       "      <td>94.0</td>\n",
       "      <td>8</td>\n",
       "    </tr>\n",
       "    <tr>\n",
       "      <th>49</th>\n",
       "      <td>100.0</td>\n",
       "      <td>7</td>\n",
       "    </tr>\n",
       "    <tr>\n",
       "      <th>29</th>\n",
       "      <td>74.0</td>\n",
       "      <td>7</td>\n",
       "    </tr>\n",
       "    <tr>\n",
       "      <th>26</th>\n",
       "      <td>70.0</td>\n",
       "      <td>6</td>\n",
       "    </tr>\n",
       "    <tr>\n",
       "      <th>43</th>\n",
       "      <td>90.0</td>\n",
       "      <td>6</td>\n",
       "    </tr>\n",
       "    <tr>\n",
       "      <th>33</th>\n",
       "      <td>79.0</td>\n",
       "      <td>5</td>\n",
       "    </tr>\n",
       "    <tr>\n",
       "      <th>21</th>\n",
       "      <td>65.0</td>\n",
       "      <td>4</td>\n",
       "    </tr>\n",
       "    <tr>\n",
       "      <th>41</th>\n",
       "      <td>88.0</td>\n",
       "      <td>4</td>\n",
       "    </tr>\n",
       "    <tr>\n",
       "      <th>20</th>\n",
       "      <td>64.0</td>\n",
       "      <td>4</td>\n",
       "    </tr>\n",
       "    <tr>\n",
       "      <th>47</th>\n",
       "      <td>96.0</td>\n",
       "      <td>3</td>\n",
       "    </tr>\n",
       "  </tbody>\n",
       "</table>\n",
       "</div>"
      ],
      "text/plain": [
       "    Humidity (%)  Mission Status N\n",
       "46          94.0                 8\n",
       "49         100.0                 7\n",
       "29          74.0                 7\n",
       "26          70.0                 6\n",
       "43          90.0                 6\n",
       "33          79.0                 5\n",
       "21          65.0                 4\n",
       "41          88.0                 4\n",
       "20          64.0                 4\n",
       "47          96.0                 3"
      ]
     },
     "execution_count": 34,
     "metadata": {},
     "output_type": "execute_result"
    }
   ],
   "source": [
    "# Group the dataset by Humidity and using sum method to get the Mission Status descending order. \n",
    "\n",
    "Humidity  = df[['Humidity (%)','Mission Status N']].groupby('Humidity (%)').sum()\n",
    "Humidity.reset_index(level=0,inplace=True)\n",
    "Humidity.sort_values(by='Mission Status N',ascending=False,inplace=True)\n",
    "Humidity.head(10)"
   ]
  },
  {
   "cell_type": "code",
   "execution_count": 35,
   "id": "19513c74",
   "metadata": {},
   "outputs": [
    {
     "data": {
      "text/plain": [
       "(50, 2)"
      ]
     },
     "execution_count": 35,
     "metadata": {},
     "output_type": "execute_result"
    }
   ],
   "source": [
    "Humidity.shape"
   ]
  },
  {
   "cell_type": "code",
   "execution_count": 36,
   "id": "b3b6c559",
   "metadata": {},
   "outputs": [],
   "source": [
    "df4 = pd.DataFrame(Humidity)\n",
    "  \n",
    "X = list(df4.iloc[:, 0])\n",
    "Y = list(df4.iloc[:, 1])"
   ]
  },
  {
   "cell_type": "code",
   "execution_count": 37,
   "id": "2e81f2fb",
   "metadata": {},
   "outputs": [
    {
     "data": {
      "image/png": "[encoded data removed]",
      "text/plain": [
       "<Figure size 432x288 with 1 Axes>"
      ]
     },
     "metadata": {
      "needs_background": "light"
     },
     "output_type": "display_data"
    }
   ],
   "source": [
    "# Plot the data using bar() method\n",
    "plt.bar(X, Y, color='b')\n",
    "plt.title(\" Humidity Vs Number of Success Mission\")\n",
    "plt.xlabel(\"Humidity\")\n",
    "plt.ylabel(\"Number of Success Mission\")\n",
    "  \n",
    "# Show the plot\n",
    "plt.show()"
   ]
  },
  {
   "cell_type": "code",
   "execution_count": 38,
   "id": "ea598c40",
   "metadata": {},
   "outputs": [
    {
     "data": {
      "text/html": [
       "<div>\n",
       "<style scoped>\n",
       "    .dataframe tbody tr th:only-of-type {\n",
       "        vertical-align: middle;\n",
       "    }\n",
       "\n",
       "    .dataframe tbody tr th {\n",
       "        vertical-align: top;\n",
       "    }\n",
       "\n",
       "    .dataframe thead th {\n",
       "        text-align: right;\n",
       "    }\n",
       "</style>\n",
       "<table border=\"1\" class=\"dataframe\">\n",
       "  <thead>\n",
       "    <tr style=\"text-align: right;\">\n",
       "      <th></th>\n",
       "      <th>Rocket Height (m)</th>\n",
       "      <th>Mission Status N</th>\n",
       "    </tr>\n",
       "  </thead>\n",
       "  <tbody>\n",
       "    <tr>\n",
       "      <th>17</th>\n",
       "      <td>72.00</td>\n",
       "      <td>0</td>\n",
       "    </tr>\n",
       "    <tr>\n",
       "      <th>16</th>\n",
       "      <td>70.00</td>\n",
       "      <td>66</td>\n",
       "    </tr>\n",
       "    <tr>\n",
       "      <th>15</th>\n",
       "      <td>68.40</td>\n",
       "      <td>15</td>\n",
       "    </tr>\n",
       "    <tr>\n",
       "      <th>14</th>\n",
       "      <td>62.50</td>\n",
       "      <td>1</td>\n",
       "    </tr>\n",
       "    <tr>\n",
       "      <th>13</th>\n",
       "      <td>58.72</td>\n",
       "      <td>0</td>\n",
       "    </tr>\n",
       "    <tr>\n",
       "      <th>12</th>\n",
       "      <td>54.90</td>\n",
       "      <td>5</td>\n",
       "    </tr>\n",
       "    <tr>\n",
       "      <th>11</th>\n",
       "      <td>53.00</td>\n",
       "      <td>0</td>\n",
       "    </tr>\n",
       "    <tr>\n",
       "      <th>10</th>\n",
       "      <td>52.00</td>\n",
       "      <td>0</td>\n",
       "    </tr>\n",
       "    <tr>\n",
       "      <th>9</th>\n",
       "      <td>50.00</td>\n",
       "      <td>0</td>\n",
       "    </tr>\n",
       "    <tr>\n",
       "      <th>8</th>\n",
       "      <td>45.00</td>\n",
       "      <td>0</td>\n",
       "    </tr>\n",
       "  </tbody>\n",
       "</table>\n",
       "</div>"
      ],
      "text/plain": [
       "    Rocket Height (m)  Mission Status N\n",
       "17              72.00                 0\n",
       "16              70.00                66\n",
       "15              68.40                15\n",
       "14              62.50                 1\n",
       "13              58.72                 0\n",
       "12              54.90                 5\n",
       "11              53.00                 0\n",
       "10              52.00                 0\n",
       "9               50.00                 0\n",
       "8               45.00                 0"
      ]
     },
     "execution_count": 38,
     "metadata": {},
     "output_type": "execute_result"
    }
   ],
   "source": [
    "# Group the dataset by Rocket Height (m) and using sum method to get the Mission Status descending order. \n",
    "\n",
    "Rocket_Height = df[['Rocket Height (m)','Mission Status N']].groupby('Rocket Height (m)').sum()\n",
    "Rocket_Height .reset_index(level=0,inplace=True)\n",
    "Rocket_Height .sort_values(by='Rocket Height (m)',ascending=False,inplace=True)\n",
    "Rocket_Height .head(10)\n"
   ]
  },
  {
   "cell_type": "code",
   "execution_count": 39,
   "id": "ab7b987e",
   "metadata": {},
   "outputs": [
    {
     "data": {
      "text/plain": [
       "(18, 2)"
      ]
     },
     "execution_count": 39,
     "metadata": {},
     "output_type": "execute_result"
    }
   ],
   "source": [
    "Rocket_Height .shape"
   ]
  },
  {
   "cell_type": "code",
   "execution_count": 40,
   "id": "6e1d7467",
   "metadata": {},
   "outputs": [],
   "source": [
    "df5 = pd.DataFrame(Rocket_Height )\n",
    "  \n",
    "X = list(df5.iloc[:, 0])\n",
    "Y = list(df5.iloc[:, 1])"
   ]
  },
  {
   "cell_type": "code",
   "execution_count": 41,
   "id": "a21f2050",
   "metadata": {},
   "outputs": [
    {
     "data": {
      "image/png": "[encoded data removed]",
      "text/plain": [
       "<Figure size 432x288 with 1 Axes>"
      ]
     },
     "metadata": {
      "needs_background": "light"
     },
     "output_type": "display_data"
    }
   ],
   "source": [
    "# Plot the data using bar() method\n",
    "plt.bar(X, Y, color='b')\n",
    "plt.title(\" Rocket Height  Vs Number of Success Mission\")\n",
    "plt.xlabel(\"Rocket_Height \")\n",
    "plt.ylabel(\"Number of Success Mission\")\n",
    "  \n",
    "# Show the plot\n",
    "plt.show()"
   ]
  },
  {
   "cell_type": "code",
   "execution_count": 42,
   "id": "1220fd74",
   "metadata": {},
   "outputs": [
    {
     "data": {
      "text/plain": [
       "Index(['Company', 'Launch Date', 'Launch Time', 'Launch Site',\n",
       "       'Temperature (° F)', 'Wind speed (MPH)', 'Humidity (%)', 'Vehicle Type',\n",
       "       'Liftoff Thrust (kN)', 'Payload to Orbit (kg)', 'Rocket Height (m)',\n",
       "       'Fairing Diameter (m)', 'Payload Name', 'Payload Type',\n",
       "       'Payload Mass (kg)', 'Payload Orbit', 'Mission Status',\n",
       "       'Failure Reason', 'Mission Status N', 'year'],\n",
       "      dtype='object')"
      ]
     },
     "execution_count": 42,
     "metadata": {},
     "output_type": "execute_result"
    }
   ],
   "source": [
    "df.columns"
   ]
  },
  {
   "cell_type": "code",
   "execution_count": null,
   "id": "bb464b84",
   "metadata": {},
   "outputs": [],
   "source": []
  }
 ],
 "metadata": {
  "kernelspec": {
   "display_name": "Python 3 (ipykernel)",
   "language": "python",
   "name": "python3"
  },
  "language_info": {
   "codemirror_mode": {
    "name": "ipython",
    "version": 3
   },
   "file_extension": ".py",
   "mimetype": "text/x-python",
   "name": "python",
   "nbconvert_exporter": "python",
   "pygments_lexer": "ipython3",
   "version": "3.9.7"
  }
 },
 "nbformat": 4,
 "nbformat_minor": 5
}
