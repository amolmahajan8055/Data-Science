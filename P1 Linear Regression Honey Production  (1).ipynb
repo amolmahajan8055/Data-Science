{
 "cells": [
  {
   "cell_type": "markdown",
   "id": "ce5bc2a0",
   "metadata": {},
   "source": [
    "# Honey Production Project"
   ]
  },
  {
   "cell_type": "code",
   "execution_count": 1,
   "id": "8761fa71",
   "metadata": {},
   "outputs": [],
   "source": [
    "# get data set from here\n",
    "# https://www.kaggle.com/jessicali9530/honey-production"
   ]
  },
  {
   "cell_type": "code",
   "execution_count": 2,
   "id": "221796c2",
   "metadata": {},
   "outputs": [],
   "source": [
    "import pandas as pd\n",
    "import numpy as np\n",
    "import matplotlib.pyplot as plt\n",
    "import seaborn as sns\n",
    "%matplotlib inline"
   ]
  },
  {
   "cell_type": "code",
   "execution_count": 4,
   "id": "ea1fb6bd",
   "metadata": {},
   "outputs": [],
   "source": [
    "# Read Honey Production Dataset.\n",
    "hp = pd.read_csv(r'D:\\DS\\L4 LINEAR REGRATION\\honeyproduction.csv')"
   ]
  },
  {
   "cell_type": "code",
   "execution_count": null,
   "id": "1355aa26",
   "metadata": {},
   "outputs": [],
   "source": [
    "hp.shape"
   ]
  },
  {
   "cell_type": "code",
   "execution_count": null,
   "id": "fca5665b",
   "metadata": {},
   "outputs": [],
   "source": [
    "hp.head()"
   ]
  },
  {
   "cell_type": "code",
   "execution_count": null,
   "id": "08748cd7",
   "metadata": {},
   "outputs": [],
   "source": [
    "hp.tail()"
   ]
  },
  {
   "cell_type": "code",
   "execution_count": null,
   "id": "deac1b11",
   "metadata": {},
   "outputs": [],
   "source": [
    "#Summarizing hp dataset"
   ]
  },
  {
   "cell_type": "code",
   "execution_count": null,
   "id": "19f0d3b5",
   "metadata": {},
   "outputs": [],
   "source": [
    "hp.describe().transpose()"
   ]
  },
  {
   "cell_type": "code",
   "execution_count": null,
   "id": "9cc48dd0",
   "metadata": {},
   "outputs": [],
   "source": [
    "hp_year = hp[['numcol','totalprod','year','yieldpercol','stocks','prodvalue','state']].groupby('state').sum()\n",
    "hp_year.head()"
   ]
  },
  {
   "cell_type": "code",
   "execution_count": null,
   "id": "3492d72a",
   "metadata": {},
   "outputs": [],
   "source": [
    "hp_year.shape"
   ]
  },
  {
   "cell_type": "code",
   "execution_count": null,
   "id": "289f7e15",
   "metadata": {},
   "outputs": [],
   "source": [
    "# total no of state 44"
   ]
  },
  {
   "cell_type": "code",
   "execution_count": null,
   "id": "6f9c5ddc",
   "metadata": {},
   "outputs": [],
   "source": [
    "\n",
    "# Creating summary table to understand the trend using year variable \n",
    "hp_year = hp[['numcol','totalprod','year','yieldpercol','stocks','prodvalue']].groupby('year').sum()\n",
    "hp_year.head()"
   ]
  },
  {
   "cell_type": "code",
   "execution_count": null,
   "id": "1a57d32f",
   "metadata": {},
   "outputs": [],
   "source": [
    "hp_year.shape"
   ]
  },
  {
   "cell_type": "code",
   "execution_count": null,
   "id": "615d4cb3",
   "metadata": {},
   "outputs": [],
   "source": [
    "hp_year.tail()"
   ]
  },
  {
   "cell_type": "code",
   "execution_count": null,
   "id": "d9d6255f",
   "metadata": {},
   "outputs": [],
   "source": [
    "# toatal 15 years till 2012"
   ]
  },
  {
   "cell_type": "code",
   "execution_count": null,
   "id": "4a82a53a",
   "metadata": {},
   "outputs": [],
   "source": [
    "hp_year = hp[['numcol','totalprod','year','yieldpercol','stocks','prodvalue']].groupby('year').sum()\n",
    "#.groupby(\"year\").sum()\n",
    "hp_year.head()"
   ]
  },
  {
   "cell_type": "code",
   "execution_count": null,
   "id": "f7110e9e",
   "metadata": {},
   "outputs": [],
   "source": [
    "hp_year.reset_index(inplace=True)\n",
    "\n",
    "hp_year.head()"
   ]
  },
  {
   "cell_type": "code",
   "execution_count": null,
   "id": "6f436262",
   "metadata": {},
   "outputs": [],
   "source": [
    "hp"
   ]
  },
  {
   "cell_type": "code",
   "execution_count": null,
   "id": "e24c6903",
   "metadata": {},
   "outputs": [],
   "source": [
    "# Visualizing the trend of Yield per Colony from year 1998 to 2012\n",
    "plt.figure(figsize=(25,8))\n",
    "plt.plot(hp_year['year'],hp_year['yieldpercol'])\n",
    "plt.title('Trend of Honey Yield per Colony' ,fontsize=25)\n",
    "plt.xlabel('Year',fontsize=25)\n",
    "plt.ylabel('Yield per Colony',fontsize = 25)"
   ]
  },
  {
   "cell_type": "code",
   "execution_count": null,
   "id": "dbf4320d",
   "metadata": {},
   "outputs": [],
   "source": [
    "# Visualizing the total honey production from the year 1998 to 2012.\n",
    "plt.figure(figsize=(25,8))\n",
    "plt.plot(hp_year['year'],hp_year['totalprod'])\n",
    "plt.title('Total Honey Production in USA' ,fontsize=25)\n",
    "plt.xlabel('Year',fontsize=25)\n",
    "plt.ylabel('Total Production of Honey (lbs.)',fontsize = 25)"
   ]
  },
  {
   "cell_type": "code",
   "execution_count": null,
   "id": "84b49bb5",
   "metadata": {},
   "outputs": [],
   "source": [
    "plt.figure(figsize=(25,8))\n",
    "plt.plot(hp_year['year'],hp_year['stocks'])\n",
    "plt.title('Total Honey Stocks in USA' ,fontsize=25)\n",
    "plt.xlabel('Year',fontsize=25)\n",
    "plt.ylabel('Total Honey Stocks',fontsize = 25)"
   ]
  },
  {
   "cell_type": "code",
   "execution_count": null,
   "id": "fd564837",
   "metadata": {},
   "outputs": [],
   "source": [
    "# Group the dataset by states and using sum method to get the total honey production value descending order.\n",
    "US_state = hp[['state','totalprod','yieldpercol']].groupby('state').sum()\n",
    "US_state.reset_index(level=0,inplace=True)\n",
    "US_state.sort_values(by='totalprod',ascending=False,inplace=True)\n",
    "US_state.head()"
   ]
  },
  {
   "cell_type": "code",
   "execution_count": null,
   "id": "7fcb06c1",
   "metadata": {},
   "outputs": [],
   "source": [
    "#Creating a Bar chart to visualize the total honey production by states.\n",
    "\n",
    "plt.figure(figsize=(20,7))\n",
    "sns.barplot(x=US_state['state'],y = US_state['totalprod'])\n",
    "plt.title('Statewise Total Honey production in USA',fontsize =20)\n",
    "plt.xlabel('States',fontsize=20)\n",
    "plt.ylabel('Total Production of Honey in USA',fontsize=20)"
   ]
  },
  {
   "cell_type": "code",
   "execution_count": null,
   "id": "1edbe3ad",
   "metadata": {},
   "outputs": [],
   "source": [
    "# Creating a table to find out maximum production value from the states\n",
    "US_state_max = hp[['state','totalprod']].groupby('state').max()\n",
    "US_state_max.reset_index(inplace=True)\n",
    "US_state_max.columns = ['State','Max Prod']\n",
    "US_state_max.head()"
   ]
  },
  {
   "cell_type": "code",
   "execution_count": null,
   "id": "55a49be0",
   "metadata": {},
   "outputs": [],
   "source": [
    "# Creating a table to find out minimum production value from the states\n",
    "US_state_min = hp[['state','totalprod']].groupby('state').min()\n",
    "US_state_min.reset_index(inplace=True)\n",
    "US_state_min.columns = ['State','Min Prod']\n",
    "US_state_min.head()"
   ]
  },
  {
   "cell_type": "code",
   "execution_count": null,
   "id": "8a9bdc87",
   "metadata": {},
   "outputs": [],
   "source": [
    "# Merging the Max Prod and Min Prod varible to find the range.\n",
    "st_range = pd.merge(US_state_max,US_state_min,how='inner',on='State')\n",
    "st_range.head()"
   ]
  },
  {
   "cell_type": "code",
   "execution_count": null,
   "id": "bcd855c6",
   "metadata": {},
   "outputs": [],
   "source": [
    "#Create a Per_Change Column in the st_range dataset to understand honey production changes by states.\n",
    "st_range['Per_Change'] = ((st_range['Max Prod']-st_range['Min Prod'])/st_range['Max Prod'])*100\n",
    "st_range.sort_values(by='Per_Change',ascending=False,inplace=True)\n",
    "st_range.head()"
   ]
  },
  {
   "cell_type": "code",
   "execution_count": null,
   "id": "43deb904",
   "metadata": {},
   "outputs": [],
   "source": [
    "#Create a Bar chart to visualize the statewise decline trend.\n",
    "plt.figure(figsize=(20,7))\n",
    "sns.barplot(x='State',y='Per_Change',data= st_range)\n",
    "plt.title('Statewise Production Decline Trend',fontsize=20)\n",
    "plt.xlabel(\"State\",fontsize=15)\n",
    "plt.ylabel(\"% Decline\",fontsize=15)"
   ]
  },
  {
   "cell_type": "code",
   "execution_count": null,
   "id": "66b7013e",
   "metadata": {},
   "outputs": [],
   "source": [
    "#Checking the correlation between variables\n",
    "honey_corr = hp[['numcol','totalprod','year','yieldpercol','stocks','prodvalue']].corr()\n",
    "\n",
    "honey_corr"
   ]
  },
  {
   "cell_type": "code",
   "execution_count": null,
   "id": "715d7b53",
   "metadata": {},
   "outputs": [],
   "source": [
    "#Visualizing the same in Heatmap()\n",
    "sns.heatmap(honey_corr, annot = True, vmin = -1, vmax = 1, cmap=\"YlGnBu\")\n",
    "plt.show()"
   ]
  },
  {
   "cell_type": "code",
   "execution_count": null,
   "id": "f9d061c3",
   "metadata": {},
   "outputs": [],
   "source": [
    "#Checking hypothesis: \"More the number of colonies, higher the production value\"\n",
    "sns.lmplot(x = \"numcol\", y = \"prodvalue\", data = hp, hue = 'year')\n",
    "plt.show()"
   ]
  },
  {
   "cell_type": "code",
   "execution_count": null,
   "id": "cf349bcb",
   "metadata": {},
   "outputs": [],
   "source": [
    "#Linear_Regression\n",
    "from sklearn.linear_model import LinearRegression\n",
    "from sklearn.model_selection import train_test_split"
   ]
  },
  {
   "cell_type": "code",
   "execution_count": null,
   "id": "8965b0de",
   "metadata": {},
   "outputs": [],
   "source": [
    "X_train, X_test, y_train, y_test = train_test_split(hp.drop(['totalprod', 'state'],axis=1), \n",
    "                                                    hp['totalprod'], test_size=0.20, \n",
    "                                                    random_state=8)"
   ]
  },
  {
   "cell_type": "code",
   "execution_count": null,
   "id": "dd5d6ac6",
   "metadata": {},
   "outputs": [],
   "source": [
    "model = LinearRegression()\n",
    "model.fit(X_train,y_train)"
   ]
  },
  {
   "cell_type": "code",
   "execution_count": null,
   "id": "b54bfbd7",
   "metadata": {},
   "outputs": [],
   "source": [
    "accuracy = model.score(X_test, y_test)\n",
    "print(accuracy*100,'%')"
   ]
  },
  {
   "cell_type": "code",
   "execution_count": null,
   "id": "72e13305",
   "metadata": {},
   "outputs": [],
   "source": []
  }
 ],
 "metadata": {
  "kernelspec": {
   "display_name": "Python 3 (ipykernel)",
   "language": "python",
   "name": "python3"
  },
  "language_info": {
   "codemirror_mode": {
    "name": "ipython",
    "version": 3
   },
   "file_extension": ".py",
   "mimetype": "text/x-python",
   "name": "python",
   "nbconvert_exporter": "python",
   "pygments_lexer": "ipython3",
   "version": "3.9.7"
  }
 },
 "nbformat": 4,
 "nbformat_minor": 5
}
