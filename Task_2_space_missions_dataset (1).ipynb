{
 "cells": [
  {
   "cell_type": "markdown",
   "id": "4fbcc631",
   "metadata": {},
   "source": [
    "# Space Missions:"
   ]
  },
  {
   "cell_type": "code",
   "execution_count": 1,
   "id": "22bb078c",
   "metadata": {},
   "outputs": [],
   "source": [
    "# Importing the libraries\n",
    "import numpy as np\n",
    "import pandas as pd\n",
    "import matplotlib.pyplot as plt\n",
    "import seaborn as sns\n",
    "%matplotlib inline\n",
    "import warnings\n",
    "warnings.filterwarnings('ignore')"
   ]
  },
  {
   "cell_type": "code",
   "execution_count": 2,
   "id": "c599ad6f",
   "metadata": {},
   "outputs": [
    {
     "ename": "OSError",
     "evalue": "[Errno 22] Invalid argument: '\\u202aD:/DS/SpaceMissions.csv'",
     "output_type": "error",
     "traceback": [
      "\u001b[1;31m---------------------------------------------------------------------------\u001b[0m",
      "\u001b[1;31mOSError\u001b[0m                                   Traceback (most recent call last)",
      "\u001b[1;32m~\\AppData\\Local\\Temp/ipykernel_13360/176160425.py\u001b[0m in \u001b[0;36m<module>\u001b[1;34m\u001b[0m\n\u001b[0;32m      1\u001b[0m \u001b[1;31m# Importing the Dataset\u001b[0m\u001b[1;33m\u001b[0m\u001b[1;33m\u001b[0m\u001b[0m\n\u001b[1;32m----> 2\u001b[1;33m \u001b[0mdata\u001b[0m \u001b[1;33m=\u001b[0m \u001b[0mpd\u001b[0m\u001b[1;33m.\u001b[0m\u001b[0mread_excel\u001b[0m\u001b[1;33m(\u001b[0m\u001b[1;34mr\"‪D:/DS/SpaceMissions.csv\"\u001b[0m\u001b[1;33m)\u001b[0m\u001b[1;33m\u001b[0m\u001b[1;33m\u001b[0m\u001b[0m\n\u001b[0m",
      "\u001b[1;32m~\\anaconda3\\lib\\site-packages\\pandas\\util\\_decorators.py\u001b[0m in \u001b[0;36mwrapper\u001b[1;34m(*args, **kwargs)\u001b[0m\n\u001b[0;32m    309\u001b[0m                     \u001b[0mstacklevel\u001b[0m\u001b[1;33m=\u001b[0m\u001b[0mstacklevel\u001b[0m\u001b[1;33m,\u001b[0m\u001b[1;33m\u001b[0m\u001b[1;33m\u001b[0m\u001b[0m\n\u001b[0;32m    310\u001b[0m                 )\n\u001b[1;32m--> 311\u001b[1;33m             \u001b[1;32mreturn\u001b[0m \u001b[0mfunc\u001b[0m\u001b[1;33m(\u001b[0m\u001b[1;33m*\u001b[0m\u001b[0margs\u001b[0m\u001b[1;33m,\u001b[0m \u001b[1;33m**\u001b[0m\u001b[0mkwargs\u001b[0m\u001b[1;33m)\u001b[0m\u001b[1;33m\u001b[0m\u001b[1;33m\u001b[0m\u001b[0m\n\u001b[0m\u001b[0;32m    312\u001b[0m \u001b[1;33m\u001b[0m\u001b[0m\n\u001b[0;32m    313\u001b[0m         \u001b[1;32mreturn\u001b[0m \u001b[0mwrapper\u001b[0m\u001b[1;33m\u001b[0m\u001b[1;33m\u001b[0m\u001b[0m\n",
      "\u001b[1;32m~\\anaconda3\\lib\\site-packages\\pandas\\io\\excel\\_base.py\u001b[0m in \u001b[0;36mread_excel\u001b[1;34m(io, sheet_name, header, names, index_col, usecols, squeeze, dtype, engine, converters, true_values, false_values, skiprows, nrows, na_values, keep_default_na, na_filter, verbose, parse_dates, date_parser, thousands, comment, skipfooter, convert_float, mangle_dupe_cols, storage_options)\u001b[0m\n\u001b[0;32m    362\u001b[0m     \u001b[1;32mif\u001b[0m \u001b[1;32mnot\u001b[0m \u001b[0misinstance\u001b[0m\u001b[1;33m(\u001b[0m\u001b[0mio\u001b[0m\u001b[1;33m,\u001b[0m \u001b[0mExcelFile\u001b[0m\u001b[1;33m)\u001b[0m\u001b[1;33m:\u001b[0m\u001b[1;33m\u001b[0m\u001b[1;33m\u001b[0m\u001b[0m\n\u001b[0;32m    363\u001b[0m         \u001b[0mshould_close\u001b[0m \u001b[1;33m=\u001b[0m \u001b[1;32mTrue\u001b[0m\u001b[1;33m\u001b[0m\u001b[1;33m\u001b[0m\u001b[0m\n\u001b[1;32m--> 364\u001b[1;33m         \u001b[0mio\u001b[0m \u001b[1;33m=\u001b[0m \u001b[0mExcelFile\u001b[0m\u001b[1;33m(\u001b[0m\u001b[0mio\u001b[0m\u001b[1;33m,\u001b[0m \u001b[0mstorage_options\u001b[0m\u001b[1;33m=\u001b[0m\u001b[0mstorage_options\u001b[0m\u001b[1;33m,\u001b[0m \u001b[0mengine\u001b[0m\u001b[1;33m=\u001b[0m\u001b[0mengine\u001b[0m\u001b[1;33m)\u001b[0m\u001b[1;33m\u001b[0m\u001b[1;33m\u001b[0m\u001b[0m\n\u001b[0m\u001b[0;32m    365\u001b[0m     \u001b[1;32melif\u001b[0m \u001b[0mengine\u001b[0m \u001b[1;32mand\u001b[0m \u001b[0mengine\u001b[0m \u001b[1;33m!=\u001b[0m \u001b[0mio\u001b[0m\u001b[1;33m.\u001b[0m\u001b[0mengine\u001b[0m\u001b[1;33m:\u001b[0m\u001b[1;33m\u001b[0m\u001b[1;33m\u001b[0m\u001b[0m\n\u001b[0;32m    366\u001b[0m         raise ValueError(\n",
      "\u001b[1;32m~\\anaconda3\\lib\\site-packages\\pandas\\io\\excel\\_base.py\u001b[0m in \u001b[0;36m__init__\u001b[1;34m(self, path_or_buffer, engine, storage_options)\u001b[0m\n\u001b[0;32m   1189\u001b[0m                 \u001b[0mext\u001b[0m \u001b[1;33m=\u001b[0m \u001b[1;34m\"xls\"\u001b[0m\u001b[1;33m\u001b[0m\u001b[1;33m\u001b[0m\u001b[0m\n\u001b[0;32m   1190\u001b[0m             \u001b[1;32melse\u001b[0m\u001b[1;33m:\u001b[0m\u001b[1;33m\u001b[0m\u001b[1;33m\u001b[0m\u001b[0m\n\u001b[1;32m-> 1191\u001b[1;33m                 ext = inspect_excel_format(\n\u001b[0m\u001b[0;32m   1192\u001b[0m                     \u001b[0mcontent_or_path\u001b[0m\u001b[1;33m=\u001b[0m\u001b[0mpath_or_buffer\u001b[0m\u001b[1;33m,\u001b[0m \u001b[0mstorage_options\u001b[0m\u001b[1;33m=\u001b[0m\u001b[0mstorage_options\u001b[0m\u001b[1;33m\u001b[0m\u001b[1;33m\u001b[0m\u001b[0m\n\u001b[0;32m   1193\u001b[0m                 )\n",
      "\u001b[1;32m~\\anaconda3\\lib\\site-packages\\pandas\\io\\excel\\_base.py\u001b[0m in \u001b[0;36minspect_excel_format\u001b[1;34m(content_or_path, storage_options)\u001b[0m\n\u001b[0;32m   1068\u001b[0m         \u001b[0mcontent_or_path\u001b[0m \u001b[1;33m=\u001b[0m \u001b[0mBytesIO\u001b[0m\u001b[1;33m(\u001b[0m\u001b[0mcontent_or_path\u001b[0m\u001b[1;33m)\u001b[0m\u001b[1;33m\u001b[0m\u001b[1;33m\u001b[0m\u001b[0m\n\u001b[0;32m   1069\u001b[0m \u001b[1;33m\u001b[0m\u001b[0m\n\u001b[1;32m-> 1070\u001b[1;33m     with get_handle(\n\u001b[0m\u001b[0;32m   1071\u001b[0m         \u001b[0mcontent_or_path\u001b[0m\u001b[1;33m,\u001b[0m \u001b[1;34m\"rb\"\u001b[0m\u001b[1;33m,\u001b[0m \u001b[0mstorage_options\u001b[0m\u001b[1;33m=\u001b[0m\u001b[0mstorage_options\u001b[0m\u001b[1;33m,\u001b[0m \u001b[0mis_text\u001b[0m\u001b[1;33m=\u001b[0m\u001b[1;32mFalse\u001b[0m\u001b[1;33m\u001b[0m\u001b[1;33m\u001b[0m\u001b[0m\n\u001b[0;32m   1072\u001b[0m     ) as handle:\n",
      "\u001b[1;32m~\\anaconda3\\lib\\site-packages\\pandas\\io\\common.py\u001b[0m in \u001b[0;36mget_handle\u001b[1;34m(path_or_buf, mode, encoding, compression, memory_map, is_text, errors, storage_options)\u001b[0m\n\u001b[0;32m    709\u001b[0m         \u001b[1;32melse\u001b[0m\u001b[1;33m:\u001b[0m\u001b[1;33m\u001b[0m\u001b[1;33m\u001b[0m\u001b[0m\n\u001b[0;32m    710\u001b[0m             \u001b[1;31m# Binary mode\u001b[0m\u001b[1;33m\u001b[0m\u001b[1;33m\u001b[0m\u001b[0m\n\u001b[1;32m--> 711\u001b[1;33m             \u001b[0mhandle\u001b[0m \u001b[1;33m=\u001b[0m \u001b[0mopen\u001b[0m\u001b[1;33m(\u001b[0m\u001b[0mhandle\u001b[0m\u001b[1;33m,\u001b[0m \u001b[0mioargs\u001b[0m\u001b[1;33m.\u001b[0m\u001b[0mmode\u001b[0m\u001b[1;33m)\u001b[0m\u001b[1;33m\u001b[0m\u001b[1;33m\u001b[0m\u001b[0m\n\u001b[0m\u001b[0;32m    712\u001b[0m         \u001b[0mhandles\u001b[0m\u001b[1;33m.\u001b[0m\u001b[0mappend\u001b[0m\u001b[1;33m(\u001b[0m\u001b[0mhandle\u001b[0m\u001b[1;33m)\u001b[0m\u001b[1;33m\u001b[0m\u001b[1;33m\u001b[0m\u001b[0m\n\u001b[0;32m    713\u001b[0m \u001b[1;33m\u001b[0m\u001b[0m\n",
      "\u001b[1;31mOSError\u001b[0m: [Errno 22] Invalid argument: '\\u202aD:/DS/SpaceMissions.csv'"
     ]
    }
   ],
   "source": [
    "# Importing the Dataset\n",
    "data = pd.read_excel(r\"‪D:/DS/SpaceMissions.csv\")"
   ]
  },
  {
   "cell_type": "code",
   "execution_count": null,
   "id": "2dcab4e7",
   "metadata": {},
   "outputs": [],
   "source": [
    "data.shape"
   ]
  },
  {
   "cell_type": "code",
   "execution_count": null,
   "id": "2f256030",
   "metadata": {},
   "outputs": [],
   "source": [
    "data.head()"
   ]
  },
  {
   "cell_type": "code",
   "execution_count": null,
   "id": "3820bca5",
   "metadata": {},
   "outputs": [],
   "source": [
    "df = data.drop(['Launch Date','Launch Time', 'Launch Site'],axis=1)\n",
    "df.head()"
   ]
  },
  {
   "cell_type": "code",
   "execution_count": null,
   "id": "c10ea379",
   "metadata": {},
   "outputs": [],
   "source": [
    "df.isnull().any()"
   ]
  },
  {
   "cell_type": "code",
   "execution_count": null,
   "id": "3b30109d",
   "metadata": {},
   "outputs": [],
   "source": [
    "plt.figure(figsize=(15,10))\n",
    "ax = sns.countplot(df['Company'])\n",
    "for container in ax.containers:\n",
    "    ax.bar_label(container)\n",
    "plt.ylabel('No. of satellites launched')\n",
    "plt.title('No. of satellite launched by each company')"
   ]
  },
  {
   "cell_type": "code",
   "execution_count": null,
   "id": "0171f85b",
   "metadata": {},
   "outputs": [],
   "source": [
    "# Mission Status for total satellite launched\n",
    "ax = sns.countplot(df['Mission Status'])\n",
    "for container in ax.containers:\n",
    "    ax.bar_label(container)\n",
    "plt.ylabel('No. of satellites launched')\n",
    "plt.title('Mission Status')"
   ]
  },
  {
   "cell_type": "code",
   "execution_count": null,
   "id": "77871645",
   "metadata": {},
   "outputs": [],
   "source": [
    "# Mission status for each company\n",
    "\n",
    "print('Mission status of SpaceX:\\n',df['Mission Status'][df['Company']=='SpaceX'].value_counts())\n",
    "\n",
    "print('Mission status of Boeing:\\n',df['Mission Status'][df['Company']=='Boeing'].value_counts())\n",
    "\n",
    "print('Mission status of Martin Marietta:\\n',df['Mission Status'][df['Company']=='Martin Marietta'].value_counts())\n",
    "\n",
    "print('Mission status of US Air Force:\\n',df['Mission Status'][df['Company']=='US Air Force'].value_counts())\n",
    "\n",
    "print('Mission status of European Space Agency:\\n',df['Mission Status'][df['Company']=='European Space Agency'].value_counts())\n",
    "\n",
    "print('Mission status of Brazilian Space Agency:\\n',df['Mission Status'][df['Company']=='Brazilian Space Agency'].value_counts())\n",
    "\n",
    "print('Mission status of Arianespace:\\n',df['Mission Status'][df['Company']=='Arianespace'].value_counts())"
   ]
  },
  {
   "cell_type": "code",
   "execution_count": null,
   "id": "2380ddb0",
   "metadata": {},
   "outputs": [],
   "source": [
    "\n",
    "df_1 = pd.DataFrame({\n",
    "    'Company': ['SpaceX', 'Boeing','Martin Marietta','US Air Force Company','European Space Agency',\n",
    "                'Brazilian Space Agency','Arianespace'],\n",
    "    'Success': [88,32,0,0,0,0,0],\n",
    "    'Failure': [8,5,1,7,2,3,4]\n",
    "})\n",
    "fig, ax1 = plt.subplots(figsize=(20, 10))\n",
    "tidy = df_1.melt(id_vars='Company').rename(columns=str.title)\n",
    "sns.barplot(x='Company', y='Value', hue='Variable', data=tidy, ax=ax1)\n",
    "ax1.bar_label(ax1.containers[0])\n",
    "ax1.bar_label(ax1.containers[1])\n",
    "plt.ylabel('Number of Satellite launched')\n",
    "plt.title('Success and Failure Count of each Company',fontsize=15)"
   ]
  },
  {
   "cell_type": "code",
   "execution_count": null,
   "id": "11dedb95",
   "metadata": {},
   "outputs": [],
   "source": [
    "# Success and failure percentage for each company indivisual\n",
    "\n",
    "print('Mission status of SpaceX:\\n',df['Mission Status'][df['Company']=='SpaceX'].value_counts(normalize=True)*100)\n",
    "\n",
    "print('Mission status of Boeing:\\n',df['Mission Status'][df['Company']=='Boeing'].value_counts(normalize=True)*100)\n",
    "\n",
    "print('Mission status of Martin Marietta:\\n',df['Mission Status'][df['Company']=='Martin Marietta'].value_counts(normalize=True)*100)\n",
    "\n",
    "print('Mission status of US Air Force:\\n',df['Mission Status'][df['Company']=='US Air Force'].value_counts(normalize=True)*100)\n",
    "\n",
    "print('Mission status of European Space Agency:\\n',df['Mission Status'][df['Company']=='European Space Agency'].value_counts(normalize=True)*100)\n",
    "\n",
    "print('Mission status of Brazilian Space Agency:\\n',df['Mission Status'][df['Company']=='Brazilian Space Agency'].value_counts(normalize=True)*100)\n",
    "\n",
    "print('Mission status of Arianespace:\\n',df['Mission Status'][df['Company']=='Arianespace'].value_counts(normalize=True)*100)"
   ]
  },
  {
   "cell_type": "code",
   "execution_count": null,
   "id": "6da08f47",
   "metadata": {},
   "outputs": [],
   "source": [
    "df_1 = pd.DataFrame({\n",
    "    'Company': ['SpaceX', 'Boeing','Martin Marietta','US Air Force Company','European Space Agency',\n",
    "                'Brazilian Space Agency','Arianespace'],\n",
    "    'Success': [91.67,86.49,0,0,0,0,0],\n",
    "    'Failure': [8.33,13.51,100.0,100.0,100.0,100.0,100.0]\n",
    "})\n",
    "fig, ax1 = plt.subplots(figsize=(20, 10))\n",
    "tidy = df_1.melt(id_vars='Company').rename(columns=str.title)\n",
    "sns.barplot(x='Company', y='Value', hue='Variable', data=tidy, ax=ax1)\n",
    "ax1.bar_label(ax1.containers[0])\n",
    "ax1.bar_label(ax1.containers[1])\n",
    "plt.ylabel('Petrcentage ')\n",
    "plt.title('Success and Failure percentage of each Company',fontsize=15)"
   ]
  },
  {
   "cell_type": "code",
   "execution_count": null,
   "id": "82a728fe",
   "metadata": {},
   "outputs": [],
   "source": [
    "data =  [88,32,0,0,0,0,0]\n",
    "labels = ['SpaceX', 'Boeing','Martin Marietta','US Air Force Company','European Space Agency',\n",
    "                'Brazilian Space Agency','Arianespace']\n",
    "\n",
    "#define Seaborn color palette to use\n",
    "colors = sns.color_palette('pastel')[0:5]\n",
    "\n",
    "#create pie chart\n",
    "plt.figure(figsize=(10,10))\n",
    "plt.pie(data, labels = labels, colors = colors, autopct='%.0f%%')\n",
    "plt.title('Success Percentage based on total succcess combined',fontsize=20)"
   ]
  },
  {
   "cell_type": "code",
   "execution_count": null,
   "id": "b6786a5b",
   "metadata": {},
   "outputs": [],
   "source": [
    "data =  [8,5,1,7,2,3,4]\n",
    "labels = ['SpaceX', 'Boeing','Martin Marietta','US Air Force Company','European Space Agency',\n",
    "                'Brazilian Space Agency','Arianespace']\n",
    "\n",
    "#define Seaborn color palette to use\n",
    "colors = sns.color_palette('pastel')[0:5]\n",
    "\n",
    "#create pie chart\n",
    "plt.figure(figsize=(10,10))\n",
    "plt.pie(data, labels = labels, colors = colors, autopct='%.0f%%')\n",
    "plt.title('Failure Percentage based on total failure combined',fontsize=20)"
   ]
  },
  {
   "cell_type": "markdown",
   "id": "67927497",
   "metadata": {},
   "source": [
    "# Logistic Regression Model: "
   ]
  },
  {
   "cell_type": "code",
   "execution_count": null,
   "id": "a1784798",
   "metadata": {},
   "outputs": [],
   "source": [
    "df.shape"
   ]
  },
  {
   "cell_type": "code",
   "execution_count": null,
   "id": "d8a004cf",
   "metadata": {},
   "outputs": [],
   "source": [
    "df.shape"
   ]
  },
  {
   "cell_type": "code",
   "execution_count": null,
   "id": "8e074823",
   "metadata": {},
   "outputs": [],
   "source": [
    "df = df.drop(['Payload Mass (kg)','Failure Reason','Payload Orbit','Payload Type','Vehicle Type','Company','Payload Name'],axis = 1)"
   ]
  },
  {
   "cell_type": "code",
   "execution_count": null,
   "id": "1f4425be",
   "metadata": {},
   "outputs": [],
   "source": [
    "df.shape"
   ]
  },
  {
   "cell_type": "code",
   "execution_count": null,
   "id": "07abde50",
   "metadata": {},
   "outputs": [],
   "source": [
    "df = df.dropna()"
   ]
  },
  {
   "cell_type": "code",
   "execution_count": null,
   "id": "1cf458c3",
   "metadata": {},
   "outputs": [],
   "source": [
    "df.shape"
   ]
  },
  {
   "cell_type": "code",
   "execution_count": null,
   "id": "82e592cd",
   "metadata": {},
   "outputs": [],
   "source": [
    "from sklearn.linear_model import LogisticRegression\n",
    "from sklearn.model_selection import train_test_split\n",
    "from sklearn import preprocessing"
   ]
  },
  {
   "cell_type": "code",
   "execution_count": null,
   "id": "101f095b",
   "metadata": {},
   "outputs": [],
   "source": [
    "df['Mission Status'] = df['Mission Status'].map({'Failure':0, 'Success':1})\n"
   ]
  },
  {
   "cell_type": "code",
   "execution_count": null,
   "id": "a6b3bc37",
   "metadata": {},
   "outputs": [],
   "source": [
    "x_train, x_test, y_train, y_test = train_test_split(df.drop(['Mission Status'],axis=1),\n",
    "                                                   df['Mission Status'], test_size=0.3,\n",
    "                                                   random_state=6)"
   ]
  },
  {
   "cell_type": "code",
   "execution_count": null,
   "id": "6123378d",
   "metadata": {},
   "outputs": [],
   "source": [
    "logmodel = LogisticRegression()\n",
    "logmodel.fit(x_train, y_train)"
   ]
  },
  {
   "cell_type": "code",
   "execution_count": null,
   "id": "d0d3ea74",
   "metadata": {},
   "outputs": [],
   "source": [
    "predictions = logmodel.predict(x_test)"
   ]
  },
  {
   "cell_type": "code",
   "execution_count": null,
   "id": "bdc38a48",
   "metadata": {},
   "outputs": [],
   "source": [
    "accuracy = logmodel.score(x_test, y_test)\n",
    "print(accuracy*100,'%')"
   ]
  },
  {
   "cell_type": "code",
   "execution_count": null,
   "id": "af0935cd",
   "metadata": {},
   "outputs": [],
   "source": [
    "from sklearn.metrics import classification_report\n",
    "print(classification_report(y_test, predictions))"
   ]
  },
  {
   "cell_type": "code",
   "execution_count": null,
   "id": "45ea9b46",
   "metadata": {},
   "outputs": [],
   "source": [
    "from sklearn.metrics import confusion_matrix\n",
    "confusion_matrix(y_test, predictions)"
   ]
  },
  {
   "cell_type": "code",
   "execution_count": null,
   "id": "7f0ff591",
   "metadata": {},
   "outputs": [],
   "source": []
  }
 ],
 "metadata": {
  "kernelspec": {
   "display_name": "Python 3 (ipykernel)",
   "language": "python",
   "name": "python3"
  },
  "language_info": {
   "codemirror_mode": {
    "name": "ipython",
    "version": 3
   },
   "file_extension": ".py",
   "mimetype": "text/x-python",
   "name": "python",
   "nbconvert_exporter": "python",
   "pygments_lexer": "ipython3",
   "version": "3.9.7"
  }
 },
 "nbformat": 4,
 "nbformat_minor": 5
}
